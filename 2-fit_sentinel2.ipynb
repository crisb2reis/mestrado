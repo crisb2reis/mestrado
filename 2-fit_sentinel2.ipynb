{
 "cells": [
  {
   "attachments": {},
   "cell_type": "markdown",
   "metadata": {},
   "source": [
    "Importação das Bibliotecas"
   ]
  },
  {
   "cell_type": "code",
   "execution_count": 1,
   "metadata": {},
   "outputs": [],
   "source": [
    "import os\n",
    "import numpy as np\n",
    "import pandas as pd\n",
    "import matplotlib.pyplot as plt\n",
    "\n",
    "import rasterio as rs\n",
    "from skimage.transform import resize"
   ]
  },
  {
   "attachments": {},
   "cell_type": "markdown",
   "metadata": {},
   "source": [
    "Inicialização das Variáveis que seram utilizadas dirante a execução do código"
   ]
  },
  {
   "cell_type": "code",
   "execution_count": 2,
   "metadata": {},
   "outputs": [],
   "source": [
    "IMG_HEIGHT = 64  # Definir a altura das imagens\n",
    "IMG_WIDTH = 64   # Definir a largura das imagens\n",
    "IMG_MASK_CHANNELS = 1  # Número de canais de imagem mascara\n",
    "IMG_CHANNELS = 2  # Número de canais de imagem (bandas 11 e 12)\n",
    "IMG_COLOR_CHANNELS = 3  # Número de canais de imagem coloridas\n",
    "TAMANHO_RECORTE = IMG_HEIGHT\n",
    "NUMERO_IMAGEN = 1"
   ]
  },
  {
   "attachments": {},
   "cell_type": "markdown",
   "metadata": {},
   "source": [
    "Diretório das Imagens e Saídas de .CSV e DataFrame"
   ]
  },
  {
   "cell_type": "code",
   "execution_count": 3,
   "metadata": {},
   "outputs": [],
   "source": [
    "# Local onde as imagens seram salvas em seu computador\n",
    "path = \"/home/cristiano/Imagens/\"\n",
    "# path = \"/home/emanoelcepr/Imagens/\"\n",
    "\n",
    "# Treino Sentinel-2\n",
    "# origem =  path + \"imagens_originais/Sentinel-2/treino/\"\n",
    "# diretorio_imagens =  path + \"imagens_originais/Sentinel-2/treino_processadas/\"\n",
    "\n",
    "# # Teste Sentinel-2\n",
    "origem = path + \"imagens_originais/Sentinel-2/teste/\"\n",
    "diretorio_imagens =  path + \"imagens_originais/Sentinel-2/teste_processadas/\""
   ]
  },
  {
   "attachments": {},
   "cell_type": "markdown",
   "metadata": {},
   "source": [
    "Neste ponto é criado a estrutura que será a entrada para o treinamento da Rede Neural Convolucional. \n",
    "\n",
    "Sentinel-2"
   ]
  },
  {
   "cell_type": "code",
   "execution_count": 4,
   "metadata": {},
   "outputs": [
    {
     "name": "stderr",
     "output_type": "stream",
     "text": [
      "/home/cristiano/.local/lib/python3.10/site-packages/rasterio/__init__.py:304: NotGeoreferencedWarning: Dataset has no geotransform, gcps, or rpcs. The identity matrix will be returned.\n",
      "  dataset = DatasetReader(path, driver=driver, sharing=sharing, **kwargs)\n"
     ]
    },
    {
     "name": "stdout",
     "output_type": "stream",
     "text": [
      "Shape do X_test: (1341, 64, 64, 2)\n",
      "Shape do Y_test: (1341, 64, 64, 1)\n",
      "Shape do Z_test: (1341, 64, 64, 3)\n"
     ]
    }
   ],
   "source": [
    "# Função para redimensionar as imagens de entrada para o tamanho desejado\n",
    "def redimensionar_imagem(imagem, altura_desejada, largura_desejada):\n",
    "    return resize(imagem, (altura_desejada, largura_desejada), mode='constant', preserve_range=True)\n",
    "\n",
    "# Obter número de imagens de treino\n",
    "NUM_TRAIN_IMAGES = len([f for f in os.listdir(diretorio_imagens) if \"Mask\" in f])\n",
    "\n",
    "# Obter listas de nomes de arquivo Sentinel-2\n",
    "banda11_list = sorted([f for f in os.listdir(diretorio_imagens) if \"B11_(Raw)\" in f])\n",
    "banda12_list = sorted([f for f in os.listdir(diretorio_imagens) if \"B12_(Raw)\" in f])\n",
    "seg_list = sorted([f for f in os.listdir(diretorio_imagens) if \"Mask\" in f])\n",
    "color_list = sorted([f for f in os.listdir(diretorio_imagens) if \"Wildfires\" in f])\n",
    "\n",
    "with pd.option_context(\"display.max_columns\", None):\n",
    "    df = pd.DataFrame({'banda11': banda11_list, 'banda12': banda12_list, 'seg': seg_list, 'color': color_list})\n",
    "\n",
    "# Obter listas de IDs\n",
    "train_banda11_id_list = df['banda11'].tolist()\n",
    "train_banda12_id_list = df['banda12'].tolist()\n",
    "train_mask_id_list = df['seg'].tolist()\n",
    "train_color_id_list = df['color'].tolist()\n",
    "\n",
    "#criando as matrizes para armazenar as imagens \n",
    "# X_train = np.zeros((NUM_TRAIN_IMAGES, IMG_HEIGHT, IMG_WIDTH, IMG_CHANNELS), dtype=np.float32)\n",
    "# Y_train = np.zeros((NUM_TRAIN_IMAGES, IMG_HEIGHT, IMG_WIDTH, IMG_MASK_CHANNELS), dtype=bool)\n",
    "# Z_train = np.zeros((NUM_TRAIN_IMAGES, IMG_HEIGHT, IMG_WIDTH, IMG_COLOR_CHANNELS), dtype=np.float32)\n",
    "\n",
    "X_test = np.zeros((NUM_TRAIN_IMAGES, IMG_HEIGHT, IMG_WIDTH, IMG_CHANNELS), dtype=np.float32)\n",
    "Y_test = np.zeros((NUM_TRAIN_IMAGES, IMG_HEIGHT, IMG_WIDTH, IMG_MASK_CHANNELS), dtype=bool)\n",
    "Z_test = np.zeros((NUM_TRAIN_IMAGES, IMG_HEIGHT, IMG_WIDTH, IMG_COLOR_CHANNELS), dtype=np.float32)\n",
    "\n",
    "# Iterar sobre as listas usando enumerate\n",
    "for i, (banda11_id, banda12_id, mask_id, color_id) in enumerate(zip(train_banda11_id_list, train_banda12_id_list, train_mask_id_list, train_color_id_list)):\n",
    "    # Construir caminhos completos\n",
    "    path_banda11 = os.path.join(diretorio_imagens, banda11_id)\n",
    "    path_banda12 = os.path.join(diretorio_imagens, banda12_id)\n",
    "    path_seg = os.path.join(diretorio_imagens, mask_id)\n",
    "    path_color = os.path.join(diretorio_imagens, color_id)\n",
    "\n",
    "    try:\n",
    "        # Ler as imagens\n",
    "        with rs.open(path_banda11) as img11, rs.open(path_banda12) as img12, rs.open(path_seg) as img_seg, rs.open(path_color) as img_color:\n",
    "            banda11 = img11.read(1)\n",
    "            banda12 = img12.read(1)\n",
    "            seg = img_seg.read(1)\n",
    "            color = img_color.read(1)\n",
    "\n",
    "        # Juntar as bandas\n",
    "        bandas = np.dstack((banda11, banda12))\n",
    "\n",
    "        # Redimensionar as bandas para o tamanho desejado\n",
    "        bandas_redimensionadas = redimensionar_imagem(bandas, IMG_HEIGHT, IMG_WIDTH)\n",
    "\n",
    "        # Transformar bandas em valores entre 0 e 255\n",
    "        bandas_redimensionadas = (bandas_redimensionadas / np.max(bandas_redimensionadas)) * 255\n",
    "\n",
    "        # Inserir a imagem em X_train/X_test\n",
    "        # X_train[i] = bandas_redimensionadas\n",
    "        X_test[i] = bandas_redimensionadas\n",
    "\n",
    "        # Redimensionar a máscara para a forma (IMG_HEIGHT, IMG_WIDTH, 1)\n",
    "        mask = resize(seg, (IMG_HEIGHT, IMG_WIDTH, 1), mode='constant', preserve_range=True)\n",
    "\n",
    "        # Normalizar valores da máscara para True/False (ou 0/1)\n",
    "        mask = mask.astype(bool)\n",
    "\n",
    "        # Inserir a máscara em Y_train/Y_test\n",
    "        # Y_train[i] = mask\n",
    "        Y_test[i] = mask\n",
    "\n",
    "        # Inserir a imagem em Z_train/Z_test\n",
    "        # Z_train[i] = resize(color, (IMG_HEIGHT, IMG_WIDTH, IMG_COLOR_CHANNELS), mode='constant', preserve_range=True)\n",
    "        Z_test[i] = resize(color, (IMG_HEIGHT, IMG_WIDTH, IMG_COLOR_CHANNELS), mode='constant', preserve_range=True)\n",
    "\n",
    "    except (rs.errors.RasterioIOError, FileNotFoundError) as e:\n",
    "        print(f\"Erro ao abrir a imagem {banda11_id}: {e}\")\n",
    "\n",
    "# print('Shape do X_train:', X_train.shape)\n",
    "# print('Shape do Y_train:', Y_train.shape)\n",
    "# print('Shape do Z_train:', Z_train.shape)\n",
    "\n",
    "print('Shape do X_test:', X_test.shape)\n",
    "print('Shape do Y_test:', Y_test.shape)\n",
    "print('Shape do Z_test:', Z_test.shape)\n"
   ]
  },
  {
   "attachments": {},
   "cell_type": "markdown",
   "metadata": {},
   "source": [
    "Salva as entradas da Rede"
   ]
  },
  {
   "cell_type": "code",
   "execution_count": 5,
   "metadata": {},
   "outputs": [],
   "source": [
    "# # Salvar X_train\n",
    "# X_train_file = os.path.join(diretorio_imagens, 'X_train.npy')\n",
    "# np.save(X_train_file, X_train)\n",
    "\n",
    "# # Salvar Y_train\n",
    "# Y_train_file = os.path.join(diretorio_imagens, 'Y_train.npy')\n",
    "# np.save(Y_train_file, Y_train)\n",
    "\n",
    "# # Salvar Y_train\n",
    "# Z_train_file = os.path.join(diretorio_imagens, 'Z_train.npy')\n",
    "# np.save(Z_train_file, Z_train)"
   ]
  },
  {
   "attachments": {},
   "cell_type": "markdown",
   "metadata": {},
   "source": [
    "Visualização de uma imagem a partir dos arquivos salvos."
   ]
  },
  {
   "cell_type": "code",
   "execution_count": 6,
   "metadata": {},
   "outputs": [],
   "source": [
    "\n",
    "# # Selecionar a primeira amostra da array X_test, que contém a imagem composta pelas duas bandas\n",
    "# bandas = X_train[6]\n",
    "# color = Z_train[6]\n",
    "\n",
    "# # # Separar as bandas individuais (assumindo que as bandas estão na última dimensão)\n",
    "# banda11 = bandas[:, :, 0]\n",
    "# banda12 = bandas[:, :, 1]\n",
    "\n",
    "# # # Plotar as bandas individualmente\n",
    "# plt.subplot(1, 3, 1)\n",
    "# plt.imshow(banda11, cmap='gray')\n",
    "# plt.title('Banda 11')\n",
    "\n",
    "# plt.subplot(1, 3, 2)\n",
    "# plt.imshow(banda12, cmap='gray')\n",
    "# plt.title('Banda 12')\n",
    "\n",
    "# plt.subplot(1, 3, 3)\n",
    "# color_normalized = color / 255.0\n",
    "# plt.imshow(color_normalized)\n",
    "# plt.title('Color')\n",
    "\n",
    "\n",
    "# plt.show()"
   ]
  },
  {
   "attachments": {},
   "cell_type": "markdown",
   "metadata": {},
   "source": [
    "Salva as entradas da Rede"
   ]
  },
  {
   "cell_type": "code",
   "execution_count": 7,
   "metadata": {},
   "outputs": [],
   "source": [
    "# Salvar X_test\n",
    "X_test_file = os.path.join(diretorio_imagens, 'X_test.npy')\n",
    "np.save(X_test_file, X_test)\n",
    "\n",
    "# Salvar Y_train\n",
    "Y_test_file = os.path.join(diretorio_imagens, 'Y_test.npy')\n",
    "np.save(Y_test_file, Y_test)\n",
    "\n",
    "# Salvar Z_train\n",
    "Z_test_file = os.path.join(diretorio_imagens, 'Z_test.npy')\n",
    "np.save(Z_test_file, Z_test)"
   ]
  },
  {
   "attachments": {},
   "cell_type": "markdown",
   "metadata": {},
   "source": [
    "Visualização de uma imagem a partir dos arquivos salvos."
   ]
  },
  {
   "cell_type": "code",
   "execution_count": 13,
   "metadata": {},
   "outputs": [
    {
     "data": {
      "image/png": "[encoded data removed]",
      "text/plain": [
       "<Figure size 640x480 with 4 Axes>"
      ]
     },
     "metadata": {},
     "output_type": "display_data"
    }
   ],
   "source": [
    "\n",
    "# Selecionar a primeira amostra da array X_test, que contém a imagem composta pelas duas bandas\n",
    "bandas = X_test[9]\n",
    "mask = Y_test[9]\n",
    "color = Z_test[9]\n",
    "\n",
    "# Separar as bandas individuais (assumindo que as bandas estão na última dimensão)\n",
    "banda11 = bandas[:, :, 0]\n",
    "banda12 = bandas[:, :, 1]\n",
    "\n",
    "# Plotar as bandas individualmente\n",
    "plt.subplot(1, 4, 1)\n",
    "plt.imshow(banda11, cmap='gray')\n",
    "plt.title('Banda 11')\n",
    "\n",
    "plt.subplot(1, 4, 2)\n",
    "plt.imshow(banda12, cmap='gray')\n",
    "plt.title('Banda 12')\n",
    "\n",
    "plt.subplot(1, 4, 3)\n",
    "plt.imshow(mask, cmap='gray')\n",
    "plt.title('mask')\n",
    "\n",
    "plt.subplot(1, 4, 4)\n",
    "color_normalized = color / 255.0\n",
    "plt.imshow(color_normalized)\n",
    "plt.title('Color')\n",
    "\n",
    "plt.show()"
   ]
  },
  {
   "attachments": {},
   "cell_type": "markdown",
   "metadata": {},
   "source": [
    "vou passar o indice e a posição do pixel e a função vai no diretório onde esta salvo as imagem e vai procurar no meta dados a longitute e a latitude da imagem."
   ]
  }
 ],
 "metadata": {
  "kernelspec": {
   "display_name": "Python 3 (ipykernel)",
   "language": "python",
   "name": "python3"
  },
  "language_info": {
   "codemirror_mode": {
    "name": "ipython",
    "version": 3
   },
   "file_extension": ".py",
   "mimetype": "text/x-python",
   "name": "python",
   "nbconvert_exporter": "python",
   "pygments_lexer": "ipython3",
   "version": "3.10.6"
  }
 },
 "nbformat": 4,
 "nbformat_minor": 2
}
