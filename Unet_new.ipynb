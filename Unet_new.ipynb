{
 "cells": [
  {
   "cell_type": "code",
   "execution_count": 1,
   "metadata": {},
   "outputs": [
    {
     "name": "stderr",
     "output_type": "stream",
     "text": [
      "2023-07-16 21:17:12.840958: I tensorflow/core/util/port.cc:110] oneDNN custom operations are on. You may see slightly different numerical results due to floating-point round-off errors from different computation orders. To turn them off, set the environment variable `TF_ENABLE_ONEDNN_OPTS=0`.\n",
      "2023-07-16 21:17:12.846220: I tensorflow/tsl/cuda/cudart_stub.cc:28] Could not find cuda drivers on your machine, GPU will not be used.\n",
      "2023-07-16 21:17:12.946579: I tensorflow/tsl/cuda/cudart_stub.cc:28] Could not find cuda drivers on your machine, GPU will not be used.\n",
      "2023-07-16 21:17:12.948064: I tensorflow/core/platform/cpu_feature_guard.cc:182] This TensorFlow binary is optimized to use available CPU instructions in performance-critical operations.\n",
      "To enable the following instructions: AVX2 AVX512F AVX512_VNNI FMA, in other operations, rebuild TensorFlow with the appropriate compiler flags.\n",
      "2023-07-16 21:17:15.042662: W tensorflow/compiler/tf2tensorrt/utils/py_utils.cc:38] TF-TRT Warning: Could not find TensorRT\n"
     ]
    }
   ],
   "source": [
    "import numpy as np\n",
    "# from itertools import product\n",
    "import pandas as pd\n",
    "import tensorflow as tf\n",
    "import multiprocessing\n",
    "from tensorflow import keras\n",
    "from tensorflow.keras.models import Sequential\n",
    "from tensorflow.keras import layers\n",
    "from tensorflow.keras.preprocessing.image import ImageDataGenerator\n",
    "# from PIL import Image\n",
    "from skimage.io import imread, imshow\n",
    "from skimage.transform import resize\n",
    "from sklearn.model_selection import train_test_split\n",
    "\n",
    "import matplotlib.pyplot as plt\n",
    "import random\n",
    "\n",
    "from keras.models import Model\n",
    "from keras.layers import Input, Conv2D, MaxPooling2D, concatenate, Conv2DTranspose, BatchNormalization\n",
    "from keras.layers import Activation, MaxPool2D, Concatenate, RandomContrast\n",
    "from keras.callbacks import EarlyStopping, ModelCheckpoint\n"
   ]
  },
  {
   "cell_type": "code",
   "execution_count": 2,
   "metadata": {},
   "outputs": [
    {
     "data": {
      "text/plain": [
       "<tensorflow.python.client.session.Session at 0x7fed842caa10>"
      ]
     },
     "execution_count": 2,
     "metadata": {},
     "output_type": "execute_result"
    }
   ],
   "source": [
    "\n",
    "num_cores = multiprocessing.cpu_count()\n",
    "config = tf.compat.v1.ConfigProto(inter_op_parallelism_threads=num_cores,\n",
    "                                  intra_op_parallelism_threads=num_cores)\n",
    "tf.compat.v1.Session(config=config)\n"
   ]
  },
  {
   "attachments": {},
   "cell_type": "markdown",
   "metadata": {},
   "source": [
    "Import necessários para a criação do modelo de rede neural"
   ]
  },
  {
   "cell_type": "code",
   "execution_count": 7,
   "metadata": {},
   "outputs": [],
   "source": [
    "IMG_HEIGHT = 64\n",
    "IMG_WIDTH = 64\n",
    "IMG_CHANNELS = 2\n",
    "\n",
    "epochs = 1\n",
    "batch_size = 64\n",
    "\n",
    "seed = 42\n",
    "np.random.seed = seed\n",
    "random.seed = seed\n",
    "\n",
    "filepath = \"/home/cristiano/Imagens/imagens_originais/Sentinel-2/modelnew60-40.h5\"\n",
    "\n",
    "df_bandas_sentinel2 = \"/home/cristiano/Imagens/imagens_originais/Sentinel-2/dados_processados/df_bandas_sentinel2.csv\"\n",
    "df_mask = \"/home/cristiano/Imagens/imagens_originais/Sentinel-2/dados_processados/df_mask.csv\"\n",
    "df_wildfires = \"/home/cristiano/Imagens/imagens_originais/Sentinel-2/dados_processados/df_wildfires.csv\"\n",
    "\n",
    "df_teste_bandas_sentinel2 = \"/home/cristiano/Imagens/imagens_originais/Sentinel-2/teste_dados_processado/df_bandas_sentinel2.csv\"\n",
    "\n",
    "#df_bandas_landsat8 = '/home/cristiano/Imagens/imagens_originais/Landsat-8/teste_processado/df_banda07.csv'\n",
    "\n",
    "# caminho_df_banda11 = \"/home/cristiano/Imagens/imagens_originais/Sentinel-2/treino_processado/treino_df/df_banda11.csv\"\n",
    "# caminho_df_banda12 = \"/home/cristiano/Imagens/imagens_originais/Sentinel-2/treino_processado/treino_df/df_banda12.csv\"\n",
    "# caminho_df_mask = \"/home/cristiano/Imagens/imagens_originais/Sentinel-2/treino_processado/treino_df_mascara/df_mask_fires.csv\"\n",
    "# caminho_df_banda11_teste = \"/home/cristiano/Imagens/imagens_originais/Sentinel-2/teste_processado/arquivos_teste/arquivos_teste_banda11/teste_df_banda11.csv\"\n",
    "# caminho_df_banda12_teste = \"/home/cristiano/Imagens/imagens_originais/Sentinel-2/teste_processado/arquivos_teste/arquivos_teste_banda12/teste_df_banda12.csv\"\n"
   ]
  },
  {
   "attachments": {},
   "cell_type": "markdown",
   "metadata": {},
   "source": [
    "Carregamento das Imagens"
   ]
  },
  {
   "cell_type": "code",
   "execution_count": 8,
   "metadata": {},
   "outputs": [],
   "source": [
    "df_bandas = pd.read_csv(df_bandas_sentinel2)\n",
    "df_mask = pd.read_csv(df_mask)\n",
    "df_wildfires = pd.read_csv(df_wildfires)\n",
    "df_test = pd.read_csv(df_teste_bandas_sentinel2)\n",
    "\n",
    "# treino_df_banda11 = pd.read_csv(caminho_df_banda11)\n",
    "# treino_df_banda12 = pd.read_csv(caminho_df_banda12)\n",
    "# treino_df_mask = pd.read_csv(caminho_df_mask)\n",
    "\n",
    "# teste_df_banda11 = pd.read_csv(caminho_df_banda11_teste)\n",
    "# teste_df_banda12 = pd.read_csv(caminho_df_banda12_teste)"
   ]
  },
  {
   "cell_type": "code",
   "execution_count": 9,
   "metadata": {},
   "outputs": [],
   "source": [
    "# Obter listas de IDs\n",
    "bandas_id_list = df_bandas.index.tolist()\n",
    "mask_id_list = df_mask.index.tolist()\n",
    "wildfires_id_list = df_wildfires.index.tolist()\n",
    "test_id_list = df_test.index.tolist()\n",
    "\n",
    "NUM_TRAIN_IMAGES = df_mask.shape[0]\n",
    "\n",
    "# Definir shapes dos arrays\n",
    "IMG_HEIGHT = 64\n",
    "IMG_WIDTH = 64\n",
    "IMG_CHANNELS = 2\n",
    "\n",
    "seed = 42\n",
    "np.random.seed = seed\n",
    "random.seed = seed"
   ]
  },
  {
   "cell_type": "code",
   "execution_count": 31,
   "metadata": {},
   "outputs": [],
   "source": [
    "# Extraia os IDs de treinamento e teste dos DataFrames\n",
    "train_ids = df_bandas.index.tolist()\n",
    "test_ids = df_test.index.tolist()\n",
    "wildfires_id = df_wildfires.index.tolist()"
   ]
  },
  {
   "cell_type": "code",
   "execution_count": 44,
   "metadata": {},
   "outputs": [
    {
     "name": "stderr",
     "output_type": "stream",
     "text": [
      "/tmp/ipykernel_5047/4152765223.py:3: DeprecationWarning: `np.bool` is a deprecated alias for the builtin `bool`. To silence this warning, use `bool` by itself. Doing this will not modify any behavior and is safe. If you specifically wanted the numpy scalar type, use `np.bool_` here.\n",
      "Deprecated in NumPy 1.20; for more details and guidance: https://numpy.org/devdocs/release/1.20.0-notes.html#deprecations\n",
      "  dataset_mask = np.zeros((len(train_ids),IMG_HEIGHT, IMG_WIDTH, 1), dtype=np.bool)\n"
     ]
    }
   ],
   "source": [
    "dataset_img = np.zeros((len(train_ids), IMG_HEIGHT, IMG_WIDTH, IMG_CHANNELS), dtype=np.uint8)\n",
    "#Y_train = np.zeros((NUM_TRAIN_IMAGES, IMG_HEIGHT, IMG_WIDTH, 1), dtype=bool)\n",
    "dataset_mask = np.zeros((len(train_ids),IMG_HEIGHT, IMG_WIDTH, 1), dtype=np.bool)     \n",
    "X_test = np.zeros((len(test_ids), IMG_HEIGHT, IMG_WIDTH, IMG_CHANNELS), dtype=np.uint8)\n",
    "\n",
    "dataset_rgb = np.zeros((len(wildfires_id), IMG_HEIGHT, IMG_WIDTH, 3), dtype=np.float32)\n"
   ]
  },
  {
   "cell_type": "code",
   "execution_count": 45,
   "metadata": {},
   "outputs": [
    {
     "name": "stdout",
     "output_type": "stream",
     "text": [
      "Qtd imagens, dimensão, quantidade de bandas (3825, 64, 64, 2)\n",
      "Qtd imagens, dimensão, quantidade de bandas (3825, 64, 64, 1)\n",
      "Qtd imagens, dimensão, quantidade de bandas (2993, 64, 64, 2)\n",
      "Qtd imagens, dimensão, quantidade de bandas (1912, 64, 64, 3)\n"
     ]
    }
   ],
   "source": [
    "print('Qtd imagens, dimensão, quantidade de bandas', dataset_img.shape), \n",
    "print('Qtd imagens, dimensão, quantidade de bandas', dataset_mask.shape),\n",
    "print('Qtd imagens, dimensão, quantidade de bandas', X_test.shape),\n",
    "print('Qtd imagens, dimensão, quantidade de bandas', dataset_rgb.shape)"
   ]
  },
  {
   "cell_type": "code",
   "execution_count": 51,
   "metadata": {},
   "outputs": [
    {
     "data": {
      "image/png": "[encoded data removed]",
      "text/plain": [
       "<Figure size 1000x700 with 4 Axes>"
      ]
     },
     "metadata": {},
     "output_type": "display_data"
    }
   ],
   "source": [
    "id_img = 48\n",
    "\n",
    "fig = plt.figure(figsize=(10,7))\n",
    "\n",
    "fig.add_subplot(1,4,1)\n",
    "plt.imshow(dataset_img[id_img][:, :, 0], cmap='gray')\n",
    "plt.axis('off')\n",
    "plt.title('banda06')\n",
    "\n",
    "fig.add_subplot(1,4,2)\n",
    "plt.imshow(dataset_img[id_img][:, :, 1], cmap='gray')\n",
    "plt.axis('off')\n",
    "plt.title('banda07')\n",
    "\n",
    "fig.add_subplot(1,4,3)\n",
    "plt.imshow(np.squeeze(dataset_mask[id_img]))\n",
    "plt.axis('off')\n",
    "plt.title('Máscara');\n",
    "\n",
    "fig.add_subplot(1,4,4)\n",
    "plt.imshow(dataset_rgb[id_img])\n",
    "plt.axis('off')\n",
    "plt.title('RGB');\n"
   ]
  },
  {
   "cell_type": "code",
   "execution_count": 18,
   "metadata": {},
   "outputs": [],
   "source": [
    "X_train, X_val, y_train, y_val = train_test_split(dataset_img, dataset_mask, test_size = 0.10, random_state = 42)"
   ]
  },
  {
   "cell_type": "code",
   "execution_count": 21,
   "metadata": {},
   "outputs": [
    {
     "data": {
      "text/plain": [
       "((3442, 64, 64, 2), (383, 64, 64, 2), (3442, 64, 64, 1), (383, 64, 64, 1))"
      ]
     },
     "execution_count": 21,
     "metadata": {},
     "output_type": "execute_result"
    }
   ],
   "source": [
    "X_train.shape, X_val.shape, y_train.shape, y_val.shape"
   ]
  },
  {
   "attachments": {},
   "cell_type": "markdown",
   "metadata": {},
   "source": [
    "Criação do Modelo U-Net"
   ]
  },
  {
   "cell_type": "code",
   "execution_count": 22,
   "metadata": {},
   "outputs": [],
   "source": [
    "def conv_block(input, num_filters):\n",
    "    x = Conv2D(num_filters, 3, padding=\"same\")(input)\n",
    "    x = BatchNormalization()(x)  # Not in the original network.\n",
    "    x = Activation(\"relu\")(x)\n",
    "\n",
    "    x = Conv2D(num_filters, 3, padding=\"same\")(x)\n",
    "    x = BatchNormalization()(x)  # Not in the original network\n",
    "    x = Activation(\"relu\")(x)\n",
    "\n",
    "    return x\n",
    "\n",
    "def encoder_block(input, num_filters):\n",
    "    x = conv_block(input, num_filters)\n",
    "    p = MaxPool2D((2, 2))(x)\n",
    "    return x, p\n",
    "\n",
    "def decoder_block(input, skip_features, num_filters):\n",
    "    x = Conv2DTranspose(num_filters, (2, 2), strides=2, padding=\"same\")(input)\n",
    "    x = Concatenate()([x, skip_features])\n",
    "    x = conv_block(x, num_filters)\n",
    "    return x\n",
    "\n",
    "def build_unet(input_shape):\n",
    "    inputs = Input(input_shape)\n",
    "    s1, p1 = encoder_block(inputs, 64)\n",
    "    s2, p2 = encoder_block(p1, 128)\n",
    "    s3, p3 = encoder_block(p2, 256)\n",
    "    s4, p4 = encoder_block(p3, 512)\n",
    "\n",
    "    b1 = conv_block(p4, 1024)  # Bridge\n",
    "\n",
    "    d1 = decoder_block(b1, s4, 512)\n",
    "    d2 = decoder_block(d1, s3, 256)\n",
    "    d3 = decoder_block(d2, s2, 128)\n",
    "    d4 = decoder_block(d3, s1, 64)\n",
    "      \n",
    "    outputs = Conv2D(1, 1, padding='same', activation='sigmoid')(d4)\n",
    "\n",
    "    model = Model(inputs, outputs, name=\"U-Net\")\n",
    "    return model"
   ]
  },
  {
   "cell_type": "code",
   "execution_count": 23,
   "metadata": {},
   "outputs": [
    {
     "name": "stdout",
     "output_type": "stream",
     "text": [
      "Model: \"U-Net\"\n",
      "__________________________________________________________________________________________________\n",
      " Layer (type)                   Output Shape         Param #     Connected to                     \n",
      "==================================================================================================\n",
      " input_1 (InputLayer)           [(None, 64, 64, 2)]  0           []                               \n",
      "                                                                                                  \n",
      " conv2d (Conv2D)                (None, 64, 64, 64)   1216        ['input_1[0][0]']                \n",
      "                                                                                                  \n",
      " batch_normalization (BatchNorm  (None, 64, 64, 64)  256         ['conv2d[0][0]']                 \n",
      " alization)                                                                                       \n",
      "                                                                                                  \n",
      " activation (Activation)        (None, 64, 64, 64)   0           ['batch_normalization[0][0]']    \n",
      "                                                                                                  \n",
      " conv2d_1 (Conv2D)              (None, 64, 64, 64)   36928       ['activation[0][0]']             \n",
      "                                                                                                  \n",
      " batch_normalization_1 (BatchNo  (None, 64, 64, 64)  256         ['conv2d_1[0][0]']               \n",
      " rmalization)                                                                                     \n",
      "                                                                                                  \n",
      " activation_1 (Activation)      (None, 64, 64, 64)   0           ['batch_normalization_1[0][0]']  \n",
      "                                                                                                  \n",
      " max_pooling2d (MaxPooling2D)   (None, 32, 32, 64)   0           ['activation_1[0][0]']           \n",
      "                                                                                                  \n",
      " conv2d_2 (Conv2D)              (None, 32, 32, 128)  73856       ['max_pooling2d[0][0]']          \n",
      "                                                                                                  \n",
      " batch_normalization_2 (BatchNo  (None, 32, 32, 128)  512        ['conv2d_2[0][0]']               \n",
      " rmalization)                                                                                     \n",
      "                                                                                                  \n",
      " activation_2 (Activation)      (None, 32, 32, 128)  0           ['batch_normalization_2[0][0]']  \n",
      "                                                                                                  \n",
      " conv2d_3 (Conv2D)              (None, 32, 32, 128)  147584      ['activation_2[0][0]']           \n",
      "                                                                                                  \n",
      " batch_normalization_3 (BatchNo  (None, 32, 32, 128)  512        ['conv2d_3[0][0]']               \n",
      " rmalization)                                                                                     \n",
      "                                                                                                  \n",
      " activation_3 (Activation)      (None, 32, 32, 128)  0           ['batch_normalization_3[0][0]']  \n",
      "                                                                                                  \n",
      " max_pooling2d_1 (MaxPooling2D)  (None, 16, 16, 128)  0          ['activation_3[0][0]']           \n",
      "                                                                                                  \n",
      " conv2d_4 (Conv2D)              (None, 16, 16, 256)  295168      ['max_pooling2d_1[0][0]']        \n",
      "                                                                                                  \n",
      " batch_normalization_4 (BatchNo  (None, 16, 16, 256)  1024       ['conv2d_4[0][0]']               \n",
      " rmalization)                                                                                     \n",
      "                                                                                                  \n",
      " activation_4 (Activation)      (None, 16, 16, 256)  0           ['batch_normalization_4[0][0]']  \n",
      "                                                                                                  \n",
      " conv2d_5 (Conv2D)              (None, 16, 16, 256)  590080      ['activation_4[0][0]']           \n",
      "                                                                                                  \n",
      " batch_normalization_5 (BatchNo  (None, 16, 16, 256)  1024       ['conv2d_5[0][0]']               \n",
      " rmalization)                                                                                     \n",
      "                                                                                                  \n",
      " activation_5 (Activation)      (None, 16, 16, 256)  0           ['batch_normalization_5[0][0]']  \n",
      "                                                                                                  \n",
      " max_pooling2d_2 (MaxPooling2D)  (None, 8, 8, 256)   0           ['activation_5[0][0]']           \n",
      "                                                                                                  \n",
      " conv2d_6 (Conv2D)              (None, 8, 8, 512)    1180160     ['max_pooling2d_2[0][0]']        \n",
      "                                                                                                  \n",
      " batch_normalization_6 (BatchNo  (None, 8, 8, 512)   2048        ['conv2d_6[0][0]']               \n",
      " rmalization)                                                                                     \n",
      "                                                                                                  \n",
      " activation_6 (Activation)      (None, 8, 8, 512)    0           ['batch_normalization_6[0][0]']  \n",
      "                                                                                                  \n",
      " conv2d_7 (Conv2D)              (None, 8, 8, 512)    2359808     ['activation_6[0][0]']           \n",
      "                                                                                                  \n",
      " batch_normalization_7 (BatchNo  (None, 8, 8, 512)   2048        ['conv2d_7[0][0]']               \n",
      " rmalization)                                                                                     \n",
      "                                                                                                  \n",
      " activation_7 (Activation)      (None, 8, 8, 512)    0           ['batch_normalization_7[0][0]']  \n",
      "                                                                                                  \n",
      " max_pooling2d_3 (MaxPooling2D)  (None, 4, 4, 512)   0           ['activation_7[0][0]']           \n",
      "                                                                                                  \n",
      " conv2d_8 (Conv2D)              (None, 4, 4, 1024)   4719616     ['max_pooling2d_3[0][0]']        \n",
      "                                                                                                  \n",
      " batch_normalization_8 (BatchNo  (None, 4, 4, 1024)  4096        ['conv2d_8[0][0]']               \n",
      " rmalization)                                                                                     \n",
      "                                                                                                  \n",
      " activation_8 (Activation)      (None, 4, 4, 1024)   0           ['batch_normalization_8[0][0]']  \n",
      "                                                                                                  \n",
      " conv2d_9 (Conv2D)              (None, 4, 4, 1024)   9438208     ['activation_8[0][0]']           \n",
      "                                                                                                  \n",
      " batch_normalization_9 (BatchNo  (None, 4, 4, 1024)  4096        ['conv2d_9[0][0]']               \n",
      " rmalization)                                                                                     \n",
      "                                                                                                  \n",
      " activation_9 (Activation)      (None, 4, 4, 1024)   0           ['batch_normalization_9[0][0]']  \n",
      "                                                                                                  \n",
      " conv2d_transpose (Conv2DTransp  (None, 8, 8, 512)   2097664     ['activation_9[0][0]']           \n",
      " ose)                                                                                             \n",
      "                                                                                                  \n",
      " concatenate (Concatenate)      (None, 8, 8, 1024)   0           ['conv2d_transpose[0][0]',       \n",
      "                                                                  'activation_7[0][0]']           \n",
      "                                                                                                  \n",
      " conv2d_10 (Conv2D)             (None, 8, 8, 512)    4719104     ['concatenate[0][0]']            \n",
      "                                                                                                  \n",
      " batch_normalization_10 (BatchN  (None, 8, 8, 512)   2048        ['conv2d_10[0][0]']              \n",
      " ormalization)                                                                                    \n",
      "                                                                                                  \n",
      " activation_10 (Activation)     (None, 8, 8, 512)    0           ['batch_normalization_10[0][0]'] \n",
      "                                                                                                  \n",
      " conv2d_11 (Conv2D)             (None, 8, 8, 512)    2359808     ['activation_10[0][0]']          \n",
      "                                                                                                  \n",
      " batch_normalization_11 (BatchN  (None, 8, 8, 512)   2048        ['conv2d_11[0][0]']              \n",
      " ormalization)                                                                                    \n",
      "                                                                                                  \n",
      " activation_11 (Activation)     (None, 8, 8, 512)    0           ['batch_normalization_11[0][0]'] \n",
      "                                                                                                  \n",
      " conv2d_transpose_1 (Conv2DTran  (None, 16, 16, 256)  524544     ['activation_11[0][0]']          \n",
      " spose)                                                                                           \n",
      "                                                                                                  \n",
      " concatenate_1 (Concatenate)    (None, 16, 16, 512)  0           ['conv2d_transpose_1[0][0]',     \n",
      "                                                                  'activation_5[0][0]']           \n",
      "                                                                                                  \n",
      " conv2d_12 (Conv2D)             (None, 16, 16, 256)  1179904     ['concatenate_1[0][0]']          \n",
      "                                                                                                  \n",
      " batch_normalization_12 (BatchN  (None, 16, 16, 256)  1024       ['conv2d_12[0][0]']              \n",
      " ormalization)                                                                                    \n",
      "                                                                                                  \n",
      " activation_12 (Activation)     (None, 16, 16, 256)  0           ['batch_normalization_12[0][0]'] \n",
      "                                                                                                  \n",
      " conv2d_13 (Conv2D)             (None, 16, 16, 256)  590080      ['activation_12[0][0]']          \n",
      "                                                                                                  \n",
      " batch_normalization_13 (BatchN  (None, 16, 16, 256)  1024       ['conv2d_13[0][0]']              \n",
      " ormalization)                                                                                    \n",
      "                                                                                                  \n",
      " activation_13 (Activation)     (None, 16, 16, 256)  0           ['batch_normalization_13[0][0]'] \n",
      "                                                                                                  \n",
      " conv2d_transpose_2 (Conv2DTran  (None, 32, 32, 128)  131200     ['activation_13[0][0]']          \n",
      " spose)                                                                                           \n",
      "                                                                                                  \n",
      " concatenate_2 (Concatenate)    (None, 32, 32, 256)  0           ['conv2d_transpose_2[0][0]',     \n",
      "                                                                  'activation_3[0][0]']           \n",
      "                                                                                                  \n",
      " conv2d_14 (Conv2D)             (None, 32, 32, 128)  295040      ['concatenate_2[0][0]']          \n",
      "                                                                                                  \n",
      " batch_normalization_14 (BatchN  (None, 32, 32, 128)  512        ['conv2d_14[0][0]']              \n",
      " ormalization)                                                                                    \n",
      "                                                                                                  \n",
      " activation_14 (Activation)     (None, 32, 32, 128)  0           ['batch_normalization_14[0][0]'] \n",
      "                                                                                                  \n",
      " conv2d_15 (Conv2D)             (None, 32, 32, 128)  147584      ['activation_14[0][0]']          \n",
      "                                                                                                  \n",
      " batch_normalization_15 (BatchN  (None, 32, 32, 128)  512        ['conv2d_15[0][0]']              \n",
      " ormalization)                                                                                    \n",
      "                                                                                                  \n",
      " activation_15 (Activation)     (None, 32, 32, 128)  0           ['batch_normalization_15[0][0]'] \n",
      "                                                                                                  \n",
      " conv2d_transpose_3 (Conv2DTran  (None, 64, 64, 64)  32832       ['activation_15[0][0]']          \n",
      " spose)                                                                                           \n",
      "                                                                                                  \n",
      " concatenate_3 (Concatenate)    (None, 64, 64, 128)  0           ['conv2d_transpose_3[0][0]',     \n",
      "                                                                  'activation_1[0][0]']           \n",
      "                                                                                                  \n",
      " conv2d_16 (Conv2D)             (None, 64, 64, 64)   73792       ['concatenate_3[0][0]']          \n",
      "                                                                                                  \n",
      " batch_normalization_16 (BatchN  (None, 64, 64, 64)  256         ['conv2d_16[0][0]']              \n",
      " ormalization)                                                                                    \n",
      "                                                                                                  \n",
      " activation_16 (Activation)     (None, 64, 64, 64)   0           ['batch_normalization_16[0][0]'] \n",
      "                                                                                                  \n",
      " conv2d_17 (Conv2D)             (None, 64, 64, 64)   36928       ['activation_16[0][0]']          \n",
      "                                                                                                  \n",
      " batch_normalization_17 (BatchN  (None, 64, 64, 64)  256         ['conv2d_17[0][0]']              \n",
      " ormalization)                                                                                    \n",
      "                                                                                                  \n",
      " activation_17 (Activation)     (None, 64, 64, 64)   0           ['batch_normalization_17[0][0]'] \n",
      "                                                                                                  \n",
      " conv2d_18 (Conv2D)             (None, 64, 64, 1)    65          ['activation_17[0][0]']          \n",
      "                                                                                                  \n",
      "==================================================================================================\n",
      "Total params: 31,054,721\n",
      "Trainable params: 31,042,945\n",
      "Non-trainable params: 11,776\n",
      "__________________________________________________________________________________________________\n"
     ]
    }
   ],
   "source": [
    "\n",
    "my_unet = build_unet(input_shape=(IMG_HEIGHT, IMG_WIDTH, IMG_CHANNELS))\n",
    "my_unet.compile(optimizer='Adam', loss='binary_crossentropy', metrics=['accuracy'])\n",
    "my_unet.summary()"
   ]
  },
  {
   "attachments": {},
   "cell_type": "markdown",
   "metadata": {},
   "source": [
    "Callbacks"
   ]
  },
  {
   "cell_type": "code",
   "execution_count": 24,
   "metadata": {},
   "outputs": [],
   "source": [
    "earlystopper = EarlyStopping(patience=10, monitor='val_loss')\n",
    "checkpoint = ModelCheckpoint(filepath, monitor='val_loss', verbose=1, save_best_only=True, mode='min')\n",
    "callbacks = [earlystopper, checkpoint]"
   ]
  },
  {
   "cell_type": "code",
   "execution_count": 26,
   "metadata": {},
   "outputs": [
    {
     "name": "stdout",
     "output_type": "stream",
     "text": [
      "54/54 [==============================] - ETA: 0s - loss: 0.6747 - accuracy: 1.0000 \n",
      "Epoch 1: val_loss improved from inf to 0.66132, saving model to /home/cristiano/Imagens/imagens_originais/Sentinel-2/modelnew60-40.h5\n",
      "54/54 [==============================] - 715s 13s/step - loss: 0.6747 - accuracy: 1.0000 - val_loss: 0.6613 - val_accuracy: 1.0000\n"
     ]
    }
   ],
   "source": [
    "#history = my_unet.fit(X_train, Y_train, validation_split=0.1, batch_size= batch_size, epochs = epochs, callbacks=callbacks_list)\n",
    "history = my_unet.fit(X_train, y_train, batch_size = batch_size, validation_split=0.2, epochs=epochs, validation_data=(X_val, y_val), callbacks=[callbacks])"
   ]
  },
  {
   "cell_type": "code",
   "execution_count": 27,
   "metadata": {},
   "outputs": [
    {
     "data": {
      "text/plain": [
       "dict_keys(['loss', 'accuracy', 'val_loss', 'val_accuracy'])"
      ]
     },
     "execution_count": 27,
     "metadata": {},
     "output_type": "execute_result"
    }
   ],
   "source": [
    "history.history.keys()"
   ]
  },
  {
   "cell_type": "code",
   "execution_count": 28,
   "metadata": {},
   "outputs": [],
   "source": [
    "def mostrar_graficos(history):\n",
    "  fig = plt.gcf()\n",
    "  fig.set_size_inches(16,4)\n",
    "  plt.subplot(1,2,1)\n",
    "  plt.plot(history.history['accuracy'], 'red', label='Accuracy treinamento')\n",
    "  plt.plot(history.history['val_accuracy'], 'blue', label='Accuracy validação')\n",
    "  plt.legend()\n",
    "  plt.title('Accuracy')\n",
    "\n",
    "  plt.subplot(1,2,2)\n",
    "  plt.plot(history.history['loss'], 'red', label='Loss treinamento')\n",
    "  plt.plot(history.history['val_loss'], 'blue', label='Loss validação')\n",
    "  plt.legend()\n",
    "  plt.title('Loss')\n",
    "  plt.show()"
   ]
  },
  {
   "cell_type": "code",
   "execution_count": 29,
   "metadata": {},
   "outputs": [
    {
     "data": {
      "image/png": "[encoded data removed]",
      "text/plain": [
       "<Figure size 1600x400 with 2 Axes>"
      ]
     },
     "metadata": {},
     "output_type": "display_data"
    }
   ],
   "source": [
    "mostrar_graficos(history)"
   ]
  },
  {
   "cell_type": "code",
   "execution_count": 53,
   "metadata": {},
   "outputs": [
    {
     "name": "stdout",
     "output_type": "stream",
     "text": [
      "12/12 [==============================] - 30s 2s/step\n"
     ]
    }
   ],
   "source": [
    "# use the best epoch\n",
    "# my_unet.load_weights('/home/cristiano/Imagens/imagens_originais/Sentinel-2/model60-40.h5')\n",
    "my_unet.load_weights(filepath)\n",
    "test_preds = my_unet.predict(X_val)"
   ]
  },
  {
   "cell_type": "code",
   "execution_count": 54,
   "metadata": {},
   "outputs": [
    {
     "data": {
      "text/plain": [
       "(0.48383024, 0.48383024)"
      ]
     },
     "execution_count": 54,
     "metadata": {},
     "output_type": "execute_result"
    }
   ],
   "source": [
    "test_preds[0].min(), test_preds[0].max()"
   ]
  },
  {
   "cell_type": "code",
   "execution_count": 55,
   "metadata": {},
   "outputs": [],
   "source": [
    "preds_test_thresh = (test_preds >= 0.5).astype(np.uint8)\n",
    "preds_test_thresh = preds_test_thresh.reshape((len(X_val), IMG_WIDTH, IMG_HEIGHT, 1))"
   ]
  },
  {
   "cell_type": "code",
   "execution_count": 60,
   "metadata": {},
   "outputs": [
    {
     "name": "stdout",
     "output_type": "stream",
     "text": [
      "IOU:  1.0\n"
     ]
    }
   ],
   "source": [
    "mean_iou1 = tf.keras.metrics.MeanIoU(num_classes=2)\n",
    "mean_iou1.update_state(y_val, preds_test_thresh, sample_weight=None)\n",
    "iou = mean_iou1.result().numpy()\n",
    "print(\"IOU: \", iou)"
   ]
  },
  {
   "cell_type": "code",
   "execution_count": 65,
   "metadata": {},
   "outputs": [
    {
     "name": "stdout",
     "output_type": "stream",
     "text": [
      "Evaluate on test data\n",
      "12/12 [==============================] - 28s 2s/step - loss: 0.6613 - accuracy: 1.0000\n",
      "test loss:  [0.6613173484802246, 1.0]\n"
     ]
    }
   ],
   "source": [
    "print(\"Evaluate on test data\")\n",
    "results = my_unet.evaluate(X_val, y_val)\n",
    "print(\"test loss: \", results)"
   ]
  },
  {
   "cell_type": "code",
   "execution_count": 69,
   "metadata": {},
   "outputs": [
    {
     "data": {
      "image/png": "[encoded data removed]",
      "text/plain": [
       "<Figure size 1500x1500 with 20 Axes>"
      ]
     },
     "metadata": {},
     "output_type": "display_data"
    }
   ],
   "source": [
    "def plot_resultado(quantidade=4, random=3):\n",
    "    #indices = df_test.sample(quantidade, random_state=random).index.values\n",
    "    indices = [9,10,11,12]\n",
    "    plt.figure(figsize=(15, 15))\n",
    "    j = 1\n",
    "    for i in range(quantidade):\n",
    "        rgb = dataset_rgb[indices[i], :, :, 0].reshape((IMG_HEIGHT, IMG_WIDTH))\n",
    "        b1 = X_test[indices[i], :, :, 0].reshape((IMG_HEIGHT, IMG_WIDTH))\n",
    "        b2 = X_test[indices[i], :, :, 1].reshape((IMG_HEIGHT, IMG_WIDTH))\n",
    "        seg = X_test.reshape((-1, IMG_HEIGHT, IMG_WIDTH))[indices[i]]\n",
    "        img_pred = preds_test_thresh[indices[i]].reshape((IMG_HEIGHT, IMG_WIDTH))\n",
    "\n",
    "        imgs = [rgb, b1, b2, seg, img_pred]\n",
    "        names = ['RGB','Banda 11', 'Banda 12', 'Máscara', 'Seg Predita']\n",
    "\n",
    "        # imgs = [b1, b2, seg, img_pred]\n",
    "        # names = ['Banda 11', 'Banda 12', 'Segmentação Verdadeira', 'Segmentação Predita']\n",
    "\n",
    "        for img, nome in zip(imgs, names):\n",
    "            plt.subplot(quantidade, 5, j)\n",
    "            plt.imshow(img, cmap='gray')\n",
    "            plt.title(str(nome) + ' - índice [' + str(indices[i]) + ']', fontsize=14)\n",
    "            plt.axis('off')\n",
    "            j += 1\n",
    "    plt.tight_layout()\n",
    "    plt.show()\n",
    "\n",
    "\n",
    "plot_resultado()"
   ]
  },
  {
   "cell_type": "code",
   "execution_count": null,
   "metadata": {},
   "outputs": [],
   "source": [
    "import cv2\n",
    "\n",
    "# Carregar a imagem binarizada\n",
    "image = cv2.imread('imagem_binaria.png', 0)  # Certifique-se de fornecer o caminho correto para sua imagem\n",
    "\n",
    "# Encontrar os pixels com valor 1\n",
    "non_zero_pixels = cv2.findNonZero(image)\n",
    "\n",
    "# Exibir as coordenadas dos pixels encontrados\n",
    "for pixel in non_zero_pixels:\n",
    "    x, y = pixel[0]\n",
    "    print(f\"Pixel encontrado em x={x}, y={y}\")"
   ]
  },
  {
   "cell_type": "code",
   "execution_count": null,
   "metadata": {},
   "outputs": [],
   "source": [
    "import cv2\n",
    "import pandas as pd\n",
    "\n",
    "# Carregar o DataFrame contendo os dados, supondo que ele seja chamado \"df\"\n",
    "df = pd.read_csv('seu_dataframe.csv')  # Certifique-se de fornecer o caminho correto para o seu DataFrame\n",
    "\n",
    "# Obter o índice da imagem que você deseja buscar\n",
    "indice_imagem = 0  # Substitua 0 pelo índice correto da imagem desejada\n",
    "\n",
    "# Obter o caminho da imagem com base no índice no DataFrame\n",
    "caminho_imagem = df.loc[indice_imagem, 'caminho_imagem']  # Substitua 'caminho_imagem' pelo nome da coluna no DataFrame que contém os caminhos das imagens\n",
    "\n",
    "# Carregar a imagem binarizada\n",
    "image = cv2.imread(caminho_imagem, 0)\n",
    "\n",
    "# Encontrar os pixels com valor 1\n",
    "non_zero_pixels = cv2.findNonZero(image)\n",
    "\n",
    "# Calcular a latitude e longitude do pixel central\n",
    "resolucao_espacial = 10  # Substitua pelo tamanho real de cada pixel em metros\n",
    "latitude_referencia = 40.0  # Substitua pela latitude de referência correspondente ao canto superior esquerdo da imagem\n",
    "longitude_referencia = -70.0  # Substitua pela longitude de referência correspondente ao canto superior esquerdo da imagem\n",
    "\n",
    "for pixel in non_zero_pixels:\n",
    "    x, y = pixel[0]\n",
    "\n",
    "    # Calcular a latitude e longitude do pixel central\n",
    "    latitude = latitude_referencia - (y + 0.5) * resolucao_espacial\n",
    "    longitude = longitude_referencia + (x + 0.5) * resolucao_espacial\n",
    "\n",
    "    print(f\"Pixel encontrado em x={x}, y={y}\")\n",
    "    print(f\"Latitude={latitude}, Longitude={longitude}\")\n"
   ]
  },
  {
   "cell_type": "code",
   "execution_count": null,
   "metadata": {},
   "outputs": [],
   "source": []
  }
 ],
 "metadata": {
  "kernelspec": {
   "display_name": "Python 3 (ipykernel)",
   "language": "python",
   "name": "python3"
  },
  "language_info": {
   "codemirror_mode": {
    "name": "ipython",
    "version": 3
   },
   "file_extension": ".py",
   "mimetype": "text/x-python",
   "name": "python",
   "nbconvert_exporter": "python",
   "pygments_lexer": "ipython3",
   "version": "3.10.6"
  }
 },
 "nbformat": 4,
 "nbformat_minor": 2
}
