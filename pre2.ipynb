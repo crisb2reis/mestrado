{
 "cells": [
  {
   "attachments": {},
   "cell_type": "markdown",
   "metadata": {},
   "source": [
    "Importação das Bibliotecas"
   ]
  },
  {
   "cell_type": "code",
   "execution_count": 10,
   "metadata": {},
   "outputs": [],
   "source": [
    "import os\n",
    "import zipfile\n",
    "import shutil\n",
    "import cv2\n",
    "import numpy as np\n",
    "import pandas as pd\n",
    "from PIL import Image\n",
    "import concurrent.futures"
   ]
  },
  {
   "attachments": {},
   "cell_type": "markdown",
   "metadata": {},
   "source": [
    "Diretório das Imagens e Saídas de .CSV e DataFrame"
   ]
  },
  {
   "cell_type": "code",
   "execution_count": 19,
   "metadata": {},
   "outputs": [],
   "source": [
    "# Treino TrabalhoSentinel-2\n",
    "# origem = \"/home/emanoelcepr/projetos/u-net/TESTE/\"\n",
    "# diretorio_imagens = \"/home/emanoelcepr/projetos/u-net/TESTE_DESCOMPACTADO/\"\n",
    "# banda11 = \"/home/emanoelcepr/projetos/u-net/teste_banda11\"\n",
    "# banda12 = \"/home/emanoelcepr/projetos/u-net/teste_banda12\"\n",
    "# mask = \"/home/emanoelcepr/projetos/u-net/teste_mask\"\n",
    "\n",
    "# Treino Sentinel-2\n",
    "origem = \"/home/cristiano/Imagens/imagens_originais/Sentinel-2/treino/\"\n",
    "diretorio_imagens = \"/home/cristiano/Imagens/imagens_originais/Sentinel-2/treino_processados/\"\n",
    "banda11 = \"/home/cristiano/Imagens/imagens_originais/Sentinel-2/banda11\"\n",
    "banda12 = \"/home/cristiano/Imagens/imagens_originais/Sentinel-2/banda12\"\n",
    "mask = \"/home/cristiano/Imagens/imagens_originais/Sentinel-2/mask\"\n",
    "wildfires = \"/home/cristiano/Imagens/imagens_originais/Sentinel-2/wildfires\"\n",
    "\n",
    "# Teste Sentinel-2\n",
    "# origem = \"/home/cristiano/Imagens/imagens_originais/Sentinel-2/teste/\"\n",
    "# diretorio_imagens = \"/home/cristiano/Imagens/imagens_originais/Sentinel-2/teste_processado/\"\n",
    "# banda11 = \"/home/cristiano/Imagens/imagens_originais/Sentinel-2/teste_banda11\"\n",
    "# banda12 = \"/home/cristiano/Imagens/imagens_originais/Sentinel-2/teste_banda12\"\n",
    "# mask = \"/home/cristiano/Imagens/imagens_originais/Sentinel-2/teste_mask\"\n",
    "# Teste Serra do Cipó Sentinel-2\n",
    "# origem = \"/home/cristiano/Imagens/imagens_originais/Sentinel-2/cipo/\"\n",
    "# diretorio_imagens = \"/home/cristiano/Imagens/imagens_originais/Sentinel-2/cipo_processado/\"\n",
    "# banda11 = \"/home/cristiano/Imagens/imagens_originais/Sentinel-2/cipo_banda11\"\n",
    "# banda12 = \"/home/cristiano/Imagens/imagens_originais/Sentinel-2/cipo_banda12\"\n",
    "# mask = \"/home/cristiano/Imagens/imagens_originais/Sentinel-2/cipo_mask\"\n",
    "# Teste Landsat-8\n",
    "#origem = \"/home/cristiano/Imagens/imagens_originais/Landsat-8/teste/\"\n",
    "#diretorio_imagens = \"/home/cristiano/Imagens/imagens_originais/Landsat-8/teste_processado/\""
   ]
  },
  {
   "attachments": {},
   "cell_type": "markdown",
   "metadata": {},
   "source": [
    "Extrair as imagens para o diretório \"treino_processado\" e adicionando um número para diferenciar as imagens de mesmo nome."
   ]
  },
  {
   "cell_type": "code",
   "execution_count": 14,
   "metadata": {},
   "outputs": [
    {
     "name": "stdout",
     "output_type": "stream",
     "text": [
      "Descompactação concluída.\n"
     ]
    }
   ],
   "source": [
    "numero_imagem = 1\n",
    "\n",
    "# Verifica se o diretório de destino existe, caso contrário, cria-o\n",
    "if not os.path.exists(diretorio_imagens):\n",
    "    os.makedirs(diretorio_imagens)\n",
    "\n",
    "# Percorre todas as pastas compactadas no diretório de origem\n",
    "for pasta_compactada in os.listdir(origem):\n",
    "    caminho_pasta_compactada = os.path.join(origem, pasta_compactada)\n",
    "\n",
    "    # Verifica se o item é uma pasta compactada\n",
    "    if zipfile.is_zipfile(caminho_pasta_compactada):\n",
    "        # Extrai o conteúdo do arquivo compactado para uma pasta temporária\n",
    "        pasta_temporaria = os.path.join(diretorio_imagens, \"temp\")\n",
    "        with zipfile.ZipFile(caminho_pasta_compactada, 'r') as zip_ref:\n",
    "            zip_ref.extractall(pasta_temporaria)\n",
    "\n",
    "        # Percorre todas as imagens na pasta temporária\n",
    "        for nome_imagem in os.listdir(pasta_temporaria):\n",
    "            caminho_imagem = os.path.join(pasta_temporaria, nome_imagem)\n",
    "\n",
    "            # Verifica se o item é um arquivo de imagem\n",
    "            if os.path.isfile(caminho_imagem):\n",
    "                # Define o novo nome da imagem com o número no início\n",
    "                novo_nome_imagem = f\"{numero_imagem}_{nome_imagem}\"\n",
    "\n",
    "                # Move a imagem para o diretório de destino com o novo nome\n",
    "                caminho_destino_imagem = os.path.join(diretorio_imagens, novo_nome_imagem)\n",
    "                shutil.move(caminho_imagem, caminho_destino_imagem)\n",
    "\n",
    "                # Incrementa o número para a próxima imagem\n",
    "                numero_imagem += 1\n",
    "\n",
    "        # Remove a pasta temporária após processar todas as imagens\n",
    "        shutil.rmtree(pasta_temporaria)\n",
    "\n",
    "print(\"Descompactação concluída.\")"
   ]
  },
  {
   "attachments": {},
   "cell_type": "markdown",
   "metadata": {},
   "source": [
    "Cria as Máscaras"
   ]
  },
  {
   "cell_type": "code",
   "execution_count": 15,
   "metadata": {},
   "outputs": [],
   "source": [
    "def modificar_nome_arquivo(nome_arquivo):\n",
    "    # Remover a sequência \"_(Raw)\"\n",
    "    nome_arquivo_modificado = nome_arquivo.replace(\"(Raw)\", \"\")\n",
    "    return nome_arquivo_modificado\n",
    "\n",
    "def limiar(diretorio):\n",
    "    # Percorre todas as imagens no diretório\n",
    "    for nome_arquivo in os.listdir(diretorio):\n",
    "        if \"B11_(Raw)\" in nome_arquivo:\n",
    "            # Limpar o nome do arquivo\n",
    "            nome_arquivo_limpo = modificar_nome_arquivo(nome_arquivo)\n",
    "\n",
    "            # Carrega a imagem\n",
    "            caminho_arquivo = os.path.join(diretorio, nome_arquivo)\n",
    "            imagem = cv2.imread(caminho_arquivo, cv2.IMREAD_GRAYSCALE)\n",
    "\n",
    "            # Aplicar o limiar de 140\n",
    "            limiar = 140\n",
    "            _, thresh = cv2.threshold(imagem, limiar, 1, cv2.THRESH_BINARY)\n",
    "\n",
    "            # Obter o nome do arquivo sem a extensão\n",
    "            nome_sem_extensao = os.path.splitext(nome_arquivo_limpo)[0]\n",
    "\n",
    "            # Salvar a imagem limiarizada com \"_Mask\" antes da extensão no mesmo diretório\n",
    "            nome_mask = nome_sem_extensao + \"Mask.tiff\"\n",
    "            caminho_mask = os.path.join(diretorio, nome_mask)\n",
    "\n",
    "            cv2.imwrite(caminho_mask, thresh * 255)\n",
    "\n",
    "        elif \"B12_(Raw)\" in nome_arquivo:\n",
    "            # Limpar o nome do arquivo\n",
    "            nome_arquivo_limpo = modificar_nome_arquivo(nome_arquivo)\n",
    "\n",
    "            # Carrega a imagem\n",
    "            caminho_arquivo = os.path.join(diretorio, nome_arquivo)\n",
    "            imagem = cv2.imread(caminho_arquivo, cv2.IMREAD_GRAYSCALE)\n",
    "\n",
    "            # Aplicar o limiar de 180\n",
    "            limiar = 180\n",
    "            _, thresh = cv2.threshold(imagem, limiar, 1, cv2.THRESH_BINARY)\n",
    "\n",
    "            # Obter o nome do arquivo sem a extensão\n",
    "            nome_sem_extensao = os.path.splitext(nome_arquivo_limpo)[0]\n",
    "\n",
    "            # Salvar a imagem limiarizada com \"_Mask\" antes da extensão no mesmo diretório\n",
    "            nome_mask = nome_sem_extensao + \"Mask.tiff\"\n",
    "            caminho_mask = os.path.join(diretorio, nome_mask)\n",
    "\n",
    "            cv2.imwrite(caminho_mask, thresh * 255)\n",
    "\n",
    "    # Libera a memória das imagens\n",
    "    cv2.destroyAllWindows()\n",
    "\n",
    "limiar(diretorio_imagens)"
   ]
  },
  {
   "attachments": {},
   "cell_type": "markdown",
   "metadata": {},
   "source": [
    "Recorte das imagens em 64x64"
   ]
  },
  {
   "cell_type": "code",
   "execution_count": 16,
   "metadata": {},
   "outputs": [],
   "source": [
    "tamanho_recorte = 64\n",
    "numero_imagem = 1\n",
    "\n",
    "def recortar_imagens(diretorio, tamanho_recorte):\n",
    "    global numero_imagem\n",
    "    \n",
    "    # Percorre todas as imagens no diretório\n",
    "    for nome_arquivo in os.listdir(diretorio):\n",
    "        if nome_arquivo.endswith(\".tiff\"):\n",
    "            # Carrega a imagem\n",
    "            caminho_arquivo = os.path.join(diretorio, nome_arquivo)\n",
    "            imagem = cv2.imread(caminho_arquivo)\n",
    "            \n",
    "            # Obtém as dimensões da imagem\n",
    "            altura, largura, _ = imagem.shape\n",
    "            \n",
    "            # Calcula o número de recortes horizontais e verticais\n",
    "            num_recortes_horizontais = largura // tamanho_recorte\n",
    "            num_recortes_verticais = altura // tamanho_recorte\n",
    "            \n",
    "            # Realiza o recorte e salva as imagens resultantes\n",
    "            for i in range(num_recortes_horizontais):\n",
    "                for j in range(num_recortes_verticais):\n",
    "                    # Define as coordenadas do retângulo de recorte\n",
    "                    esquerda = i * tamanho_recorte\n",
    "                    superior = j * tamanho_recorte\n",
    "                    direita = (i + 1) * tamanho_recorte\n",
    "                    inferior = (j + 1) * tamanho_recorte\n",
    "                    \n",
    "                    # Realiza o recorte\n",
    "                    recorte = imagem[superior:inferior, esquerda:direita]\n",
    "                    \n",
    "                    # Separa o nome do arquivo e a extensão\n",
    "                    nome, extensao = os.path.splitext(nome_arquivo)\n",
    "                    \n",
    "                    numero = nome_arquivo.split(\"_\")[0]\n",
    "                   \n",
    "                    nome = nome[nome.index('_'): len(nome)]\n",
    "\n",
    "                    # Constrói o novo nome de arquivo com o prefixo desejado\n",
    "                   \n",
    "                    novo_nome_arquivo = f\"{str(numero).zfill(6)}{nome}_recorte_{i}_{j}{extensao}\"\n",
    "                    \n",
    "                    # Salva o recorte em um novo arquivo\n",
    "                    caminho_recorte = os.path.join(diretorio, novo_nome_arquivo)\n",
    "                    cv2.imwrite(caminho_recorte, recorte)\n",
    "                    \n",
    "                    # Incrementa o número para a próxima imagem\n",
    "                    numero_imagem += 1\n",
    "                    \n",
    "            # Remove a imagem original\n",
    "            os.remove(caminho_arquivo)\n",
    "            \n",
    "    # Libera a memória das imagens\n",
    "    cv2.destroyAllWindows()\n",
    "\n",
    "recortar_imagens(diretorio_imagens, tamanho_recorte)\n"
   ]
  },
  {
   "attachments": {},
   "cell_type": "markdown",
   "metadata": {},
   "source": [
    "Normalizar imagens"
   ]
  },
  {
   "cell_type": "code",
   "execution_count": 17,
   "metadata": {},
   "outputs": [],
   "source": [
    "def normalize_images(input_dir):\n",
    "    for filename in os.listdir(input_dir):\n",
    "        if 'Mask' in filename:\n",
    "            input_path = os.path.join(input_dir, filename)\n",
    "            img = Image.open(input_path)\n",
    "\n",
    "            # Converte a imagem para modo 'L', que é escala de cinza\n",
    "            img = img.convert('L')\n",
    "\n",
    "            # Normaliza os valores dos pixels dividindo por 255 e convertendo para inteiro\n",
    "            img = img.point(lambda x: int(x / 255))\n",
    "\n",
    "            # Salva a imagem normalizada substituindo a original\n",
    "            img.save(input_path)\n",
    "\n",
    "normalize_images(diretorio_imagens)\n"
   ]
  },
  {
   "cell_type": "code",
   "execution_count": 18,
   "metadata": {},
   "outputs": [],
   "source": [
    "# Verificar se os diretórios de destino existem e criar se não existirem\n",
    "for diretorio in [banda11, banda12, mask]:\n",
    "    if not os.path.exists(diretorio):\n",
    "        os.makedirs(diretorio)\n",
    "\n",
    "# Listar os arquivos no diretório de origem\n",
    "arquivos = os.listdir(diretorio_imagens)\n",
    "\n",
    "for arquivo in arquivos:\n",
    "    caminho_arquivo = os.path.join(diretorio_imagens, arquivo)\n",
    "\n",
    "    if 'B11_(Raw)' in arquivo:\n",
    "        shutil.move(caminho_arquivo, os.path.join(banda11, arquivo))\n",
    "    elif 'B12_(Raw)' in arquivo:\n",
    "        shutil.move(caminho_arquivo, os.path.join(banda12, arquivo))\n",
    "    elif 'B12_Mask' in arquivo:\n",
    "        shutil.move(caminho_arquivo, os.path.join(mask, arquivo))\n",
    "    elif 'Wildfires' in arquivo:\n",
    "        shutil.move(caminho_arquivo, os.path.join(wildfires, arquivo))    \n",
    "\n"
   ]
  }
 ],
 "metadata": {
  "kernelspec": {
   "display_name": "Python 3 (ipykernel)",
   "language": "python",
   "name": "python3"
  },
  "language_info": {
   "codemirror_mode": {
    "name": "ipython",
    "version": 3
   },
   "file_extension": ".py",
   "mimetype": "text/x-python",
   "name": "python",
   "nbconvert_exporter": "python",
   "pygments_lexer": "ipython3",
   "version": "3.11.4"
  }
 },
 "nbformat": 4,
 "nbformat_minor": 2
}
