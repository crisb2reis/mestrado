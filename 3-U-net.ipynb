{
 "cells": [
  {
   "attachments": {},
   "cell_type": "markdown",
   "metadata": {},
   "source": [
    "Importação das Bibliotecas"
   ]
  },
  {
   "cell_type": "code",
   "execution_count": 16,
   "metadata": {},
   "outputs": [],
   "source": [
    "import os\n",
    "import numpy as np\n",
    "import tensorflow as tf\n",
    "import pickle\n",
    "import matplotlib.pyplot as plt\n",
    "import multiprocessing\n",
    "from keras.callbacks import EarlyStopping, ModelCheckpoint\n",
    "from tensorflow.keras.optimizers import Adam\n",
    "from skimage.io import imread, imshow\n",
    "from skimage.transform import resize\n",
    "from tensorflow.keras.models import Model\n",
    "from tensorflow.keras.layers import (\n",
    "    Input, Conv2D, MaxPooling2D, UpSampling2D, concatenate, Conv2DTranspose, \n",
    "    BatchNormalization, Dropout, Lambda, Activation, MaxPool2D, Concatenate,\n",
    "    RandomContrast\n",
    ")\n",
    "from tensorflow.keras.preprocessing.image import ImageDataGenerator"
   ]
  },
  {
   "attachments": {},
   "cell_type": "markdown",
   "metadata": {},
   "source": [
    "Esse código é para a utilização de todos os processadores"
   ]
  },
  {
   "cell_type": "code",
   "execution_count": 17,
   "metadata": {},
   "outputs": [
    {
     "data": {
      "text/plain": [
       "<tensorflow.python.client.session.Session at 0x7f770c75e590>"
      ]
     },
     "execution_count": 17,
     "metadata": {},
     "output_type": "execute_result"
    }
   ],
   "source": [
    "num_cores = multiprocessing.cpu_count()\n",
    "config = tf.compat.v1.ConfigProto(inter_op_parallelism_threads=num_cores,\n",
    "                                  intra_op_parallelism_threads=num_cores)\n",
    "tf.compat.v1.Session(config=config)\n"
   ]
  },
  {
   "attachments": {},
   "cell_type": "markdown",
   "metadata": {},
   "source": [
    "Inicialização das Variáveis que seram utilizadas dirante a execução do código"
   ]
  },
  {
   "cell_type": "code",
   "execution_count": 18,
   "metadata": {},
   "outputs": [],
   "source": [
    "IMG_HEIGHT = 64\n",
    "IMG_WIDTH = IMG_HEIGHT\n",
    "IMG_CHANNELS = 2\n",
    "\n",
    "batch_size = 10\n",
    "epochs = 15"
   ]
  },
  {
   "attachments": {},
   "cell_type": "markdown",
   "metadata": {},
   "source": [
    "Carrega os dados de treinamento"
   ]
  },
  {
   "cell_type": "code",
   "execution_count": 19,
   "metadata": {},
   "outputs": [
    {
     "name": "stdout",
     "output_type": "stream",
     "text": [
      "Shape de X_train: (2122, 64, 64, 2)\n",
      "Shape de Y_train: (2122, 64, 64, 1)\n"
     ]
    }
   ],
   "source": [
    "# Defina o diretório onde os arquivos foram salvos\n",
    "# path = \"/home/cristiano/Imagens/\"\n",
    "path = \"/home/emanoelcepr/Imagens/\"\n",
    "\n",
    "diretorio_imagens =  path + \"imagens_originais/Sentinel-2/treino_processadas/\"\n",
    "\n",
    "# Caminhos completos para os arquivos X_train.npy e Y_train.npy\n",
    "X_train_file = os.path.join(diretorio_imagens, 'X_train.npy')\n",
    "Y_train_file = os.path.join(diretorio_imagens, 'Y_train.npy')\n",
    "\n",
    "# Carregar os dados de volta para o notebook\n",
    "X_train = np.load(X_train_file)\n",
    "Y_train = np.load(Y_train_file)\n",
    "\n",
    "# Verificar a forma (shape) das arrays carregadas\n",
    "print('Shape de X_train:', X_train.shape)\n",
    "print('Shape de Y_train:', Y_train.shape)\n"
   ]
  },
  {
   "attachments": {},
   "cell_type": "markdown",
   "metadata": {},
   "source": [
    "Estrutura da Rede U-Net"
   ]
  },
  {
   "cell_type": "code",
   "execution_count": 20,
   "metadata": {},
   "outputs": [],
   "source": [
    "def conv_block(input, num_filters):\n",
    "    x = Conv2D(num_filters, 3, padding=\"same\")(input)\n",
    "    x = BatchNormalization()(x)  \n",
    "    x = Activation(\"relu\")(x)\n",
    "\n",
    "    x = Conv2D(num_filters, 3, padding=\"same\")(x)\n",
    "    x = BatchNormalization()(x)  \n",
    "    x = Activation(\"relu\")(x)\n",
    "\n",
    "    return x\n",
    "\n",
    "def encoder_block(input, num_filters):\n",
    "    x = conv_block(input, num_filters)\n",
    "    p = MaxPool2D((2, 2))(x)\n",
    "    return x, p\n",
    "\n",
    "def decoder_block(input, skip_features, num_filters):\n",
    "    x = Conv2DTranspose(num_filters, (2, 2), strides=2, padding=\"same\")(input)\n",
    "    x = Concatenate()([x, skip_features])\n",
    "    x = conv_block(x, num_filters)\n",
    "    return x\n",
    "\n",
    "def build_unet(input_shape):\n",
    "    inputs = Input(input_shape)\n",
    "    s1, p1 = encoder_block(inputs, 64)\n",
    "    s2, p2 = encoder_block(p1, 128)\n",
    "    s3, p3 = encoder_block(p2, 256)\n",
    "    s4, p4 = encoder_block(p3, 512)\n",
    "\n",
    "    b1 = conv_block(p4, 1024)  # Bridge\n",
    "\n",
    "    d1 = decoder_block(b1, s4, 512)\n",
    "    d2 = decoder_block(d1, s3, 256)\n",
    "    d3 = decoder_block(d2, s2, 128)\n",
    "    d4 = decoder_block(d3, s1, 64)\n",
    "\n",
    "    outputs = Conv2D(1, 1, padding=\"same\", activation='sigmoid')(d4)\n",
    "\n",
    "    model = Model(inputs, outputs, name=\"U-Net\")\n",
    "    return model"
   ]
  },
  {
   "attachments": {},
   "cell_type": "markdown",
   "metadata": {},
   "source": [
    "Cria e complita a rede"
   ]
  },
  {
   "cell_type": "code",
   "execution_count": 21,
   "metadata": {},
   "outputs": [],
   "source": [
    "my_unet = build_unet(input_shape=(IMG_HEIGHT, IMG_WIDTH, IMG_CHANNELS))\n",
    "my_unet.compile(optimizer=Adam(learning_rate=1e-4),  loss='binary_crossentropy', metrics=['accuracy'])"
   ]
  },
  {
   "attachments": {},
   "cell_type": "markdown",
   "metadata": {},
   "source": [
    "Visualização da estrutura criada"
   ]
  },
  {
   "cell_type": "code",
   "execution_count": 22,
   "metadata": {},
   "outputs": [
    {
     "name": "stdout",
     "output_type": "stream",
     "text": [
      "Model: \"U-Net\"\n",
      "__________________________________________________________________________________________________\n",
      " Layer (type)                Output Shape                 Param #   Connected to                  \n",
      "==================================================================================================\n",
      " input_2 (InputLayer)        [(None, 64, 64, 2)]          0         []                            \n",
      "                                                                                                  \n",
      " conv2d_19 (Conv2D)          (None, 64, 64, 64)           1216      ['input_2[0][0]']             \n",
      "                                                                                                  \n",
      " batch_normalization_18 (Ba  (None, 64, 64, 64)           256       ['conv2d_19[0][0]']           \n",
      " tchNormalization)                                                                                \n",
      "                                                                                                  \n",
      " activation_18 (Activation)  (None, 64, 64, 64)           0         ['batch_normalization_18[0][0]\n",
      "                                                                    ']                            \n",
      "                                                                                                  \n",
      " conv2d_20 (Conv2D)          (None, 64, 64, 64)           36928     ['activation_18[0][0]']       \n",
      "                                                                                                  \n",
      " batch_normalization_19 (Ba  (None, 64, 64, 64)           256       ['conv2d_20[0][0]']           \n",
      " tchNormalization)                                                                                \n",
      "                                                                                                  \n",
      " activation_19 (Activation)  (None, 64, 64, 64)           0         ['batch_normalization_19[0][0]\n",
      "                                                                    ']                            \n",
      "                                                                                                  \n",
      " max_pooling2d_4 (MaxPoolin  (None, 32, 32, 64)           0         ['activation_19[0][0]']       \n",
      " g2D)                                                                                             \n",
      "                                                                                                  \n",
      " conv2d_21 (Conv2D)          (None, 32, 32, 128)          73856     ['max_pooling2d_4[0][0]']     \n",
      "                                                                                                  \n",
      " batch_normalization_20 (Ba  (None, 32, 32, 128)          512       ['conv2d_21[0][0]']           \n",
      " tchNormalization)                                                                                \n",
      "                                                                                                  \n",
      " activation_20 (Activation)  (None, 32, 32, 128)          0         ['batch_normalization_20[0][0]\n",
      "                                                                    ']                            \n",
      "                                                                                                  \n",
      " conv2d_22 (Conv2D)          (None, 32, 32, 128)          147584    ['activation_20[0][0]']       \n",
      "                                                                                                  \n",
      " batch_normalization_21 (Ba  (None, 32, 32, 128)          512       ['conv2d_22[0][0]']           \n",
      " tchNormalization)                                                                                \n",
      "                                                                                                  \n",
      " activation_21 (Activation)  (None, 32, 32, 128)          0         ['batch_normalization_21[0][0]\n",
      "                                                                    ']                            \n",
      "                                                                                                  \n",
      " max_pooling2d_5 (MaxPoolin  (None, 16, 16, 128)          0         ['activation_21[0][0]']       \n",
      " g2D)                                                                                             \n",
      "                                                                                                  \n",
      " conv2d_23 (Conv2D)          (None, 16, 16, 256)          295168    ['max_pooling2d_5[0][0]']     \n",
      "                                                                                                  \n",
      " batch_normalization_22 (Ba  (None, 16, 16, 256)          1024      ['conv2d_23[0][0]']           \n",
      " tchNormalization)                                                                                \n",
      "                                                                                                  \n",
      " activation_22 (Activation)  (None, 16, 16, 256)          0         ['batch_normalization_22[0][0]\n",
      "                                                                    ']                            \n",
      "                                                                                                  \n",
      " conv2d_24 (Conv2D)          (None, 16, 16, 256)          590080    ['activation_22[0][0]']       \n",
      "                                                                                                  \n",
      " batch_normalization_23 (Ba  (None, 16, 16, 256)          1024      ['conv2d_24[0][0]']           \n",
      " tchNormalization)                                                                                \n",
      "                                                                                                  \n",
      " activation_23 (Activation)  (None, 16, 16, 256)          0         ['batch_normalization_23[0][0]\n",
      "                                                                    ']                            \n",
      "                                                                                                  \n",
      " max_pooling2d_6 (MaxPoolin  (None, 8, 8, 256)            0         ['activation_23[0][0]']       \n",
      " g2D)                                                                                             \n",
      "                                                                                                  \n",
      " conv2d_25 (Conv2D)          (None, 8, 8, 512)            1180160   ['max_pooling2d_6[0][0]']     \n",
      "                                                                                                  \n",
      " batch_normalization_24 (Ba  (None, 8, 8, 512)            2048      ['conv2d_25[0][0]']           \n",
      " tchNormalization)                                                                                \n",
      "                                                                                                  \n",
      " activation_24 (Activation)  (None, 8, 8, 512)            0         ['batch_normalization_24[0][0]\n",
      "                                                                    ']                            \n",
      "                                                                                                  \n",
      " conv2d_26 (Conv2D)          (None, 8, 8, 512)            2359808   ['activation_24[0][0]']       \n",
      "                                                                                                  \n",
      " batch_normalization_25 (Ba  (None, 8, 8, 512)            2048      ['conv2d_26[0][0]']           \n",
      " tchNormalization)                                                                                \n",
      "                                                                                                  \n",
      " activation_25 (Activation)  (None, 8, 8, 512)            0         ['batch_normalization_25[0][0]\n",
      "                                                                    ']                            \n",
      "                                                                                                  \n",
      " max_pooling2d_7 (MaxPoolin  (None, 4, 4, 512)            0         ['activation_25[0][0]']       \n",
      " g2D)                                                                                             \n",
      "                                                                                                  \n",
      " conv2d_27 (Conv2D)          (None, 4, 4, 1024)           4719616   ['max_pooling2d_7[0][0]']     \n",
      "                                                                                                  \n",
      " batch_normalization_26 (Ba  (None, 4, 4, 1024)           4096      ['conv2d_27[0][0]']           \n",
      " tchNormalization)                                                                                \n",
      "                                                                                                  \n",
      " activation_26 (Activation)  (None, 4, 4, 1024)           0         ['batch_normalization_26[0][0]\n",
      "                                                                    ']                            \n",
      "                                                                                                  \n",
      " conv2d_28 (Conv2D)          (None, 4, 4, 1024)           9438208   ['activation_26[0][0]']       \n",
      "                                                                                                  \n",
      " batch_normalization_27 (Ba  (None, 4, 4, 1024)           4096      ['conv2d_28[0][0]']           \n",
      " tchNormalization)                                                                                \n",
      "                                                                                                  \n",
      " activation_27 (Activation)  (None, 4, 4, 1024)           0         ['batch_normalization_27[0][0]\n",
      "                                                                    ']                            \n",
      "                                                                                                  \n",
      " conv2d_transpose_4 (Conv2D  (None, 8, 8, 512)            2097664   ['activation_27[0][0]']       \n",
      " Transpose)                                                                                       \n",
      "                                                                                                  \n",
      " concatenate_4 (Concatenate  (None, 8, 8, 1024)           0         ['conv2d_transpose_4[0][0]',  \n",
      " )                                                                   'activation_25[0][0]']       \n",
      "                                                                                                  \n",
      " conv2d_29 (Conv2D)          (None, 8, 8, 512)            4719104   ['concatenate_4[0][0]']       \n",
      "                                                                                                  \n",
      " batch_normalization_28 (Ba  (None, 8, 8, 512)            2048      ['conv2d_29[0][0]']           \n",
      " tchNormalization)                                                                                \n",
      "                                                                                                  \n",
      " activation_28 (Activation)  (None, 8, 8, 512)            0         ['batch_normalization_28[0][0]\n",
      "                                                                    ']                            \n",
      "                                                                                                  \n",
      " conv2d_30 (Conv2D)          (None, 8, 8, 512)            2359808   ['activation_28[0][0]']       \n",
      "                                                                                                  \n",
      " batch_normalization_29 (Ba  (None, 8, 8, 512)            2048      ['conv2d_30[0][0]']           \n",
      " tchNormalization)                                                                                \n",
      "                                                                                                  \n",
      " activation_29 (Activation)  (None, 8, 8, 512)            0         ['batch_normalization_29[0][0]\n",
      "                                                                    ']                            \n",
      "                                                                                                  \n",
      " conv2d_transpose_5 (Conv2D  (None, 16, 16, 256)          524544    ['activation_29[0][0]']       \n",
      " Transpose)                                                                                       \n",
      "                                                                                                  \n",
      " concatenate_5 (Concatenate  (None, 16, 16, 512)          0         ['conv2d_transpose_5[0][0]',  \n",
      " )                                                                   'activation_23[0][0]']       \n",
      "                                                                                                  \n",
      " conv2d_31 (Conv2D)          (None, 16, 16, 256)          1179904   ['concatenate_5[0][0]']       \n",
      "                                                                                                  \n",
      " batch_normalization_30 (Ba  (None, 16, 16, 256)          1024      ['conv2d_31[0][0]']           \n",
      " tchNormalization)                                                                                \n",
      "                                                                                                  \n",
      " activation_30 (Activation)  (None, 16, 16, 256)          0         ['batch_normalization_30[0][0]\n",
      "                                                                    ']                            \n",
      "                                                                                                  \n",
      " conv2d_32 (Conv2D)          (None, 16, 16, 256)          590080    ['activation_30[0][0]']       \n",
      "                                                                                                  \n",
      " batch_normalization_31 (Ba  (None, 16, 16, 256)          1024      ['conv2d_32[0][0]']           \n",
      " tchNormalization)                                                                                \n",
      "                                                                                                  \n",
      " activation_31 (Activation)  (None, 16, 16, 256)          0         ['batch_normalization_31[0][0]\n",
      "                                                                    ']                            \n",
      "                                                                                                  \n",
      " conv2d_transpose_6 (Conv2D  (None, 32, 32, 128)          131200    ['activation_31[0][0]']       \n",
      " Transpose)                                                                                       \n",
      "                                                                                                  \n",
      " concatenate_6 (Concatenate  (None, 32, 32, 256)          0         ['conv2d_transpose_6[0][0]',  \n",
      " )                                                                   'activation_21[0][0]']       \n",
      "                                                                                                  \n",
      " conv2d_33 (Conv2D)          (None, 32, 32, 128)          295040    ['concatenate_6[0][0]']       \n",
      "                                                                                                  \n",
      " batch_normalization_32 (Ba  (None, 32, 32, 128)          512       ['conv2d_33[0][0]']           \n",
      " tchNormalization)                                                                                \n",
      "                                                                                                  \n",
      " activation_32 (Activation)  (None, 32, 32, 128)          0         ['batch_normalization_32[0][0]\n",
      "                                                                    ']                            \n",
      "                                                                                                  \n",
      " conv2d_34 (Conv2D)          (None, 32, 32, 128)          147584    ['activation_32[0][0]']       \n",
      "                                                                                                  \n",
      " batch_normalization_33 (Ba  (None, 32, 32, 128)          512       ['conv2d_34[0][0]']           \n",
      " tchNormalization)                                                                                \n",
      "                                                                                                  \n",
      " activation_33 (Activation)  (None, 32, 32, 128)          0         ['batch_normalization_33[0][0]\n",
      "                                                                    ']                            \n",
      "                                                                                                  \n",
      " conv2d_transpose_7 (Conv2D  (None, 64, 64, 64)           32832     ['activation_33[0][0]']       \n",
      " Transpose)                                                                                       \n",
      "                                                                                                  \n",
      " concatenate_7 (Concatenate  (None, 64, 64, 128)          0         ['conv2d_transpose_7[0][0]',  \n",
      " )                                                                   'activation_19[0][0]']       \n",
      "                                                                                                  \n",
      " conv2d_35 (Conv2D)          (None, 64, 64, 64)           73792     ['concatenate_7[0][0]']       \n",
      "                                                                                                  \n",
      " batch_normalization_34 (Ba  (None, 64, 64, 64)           256       ['conv2d_35[0][0]']           \n",
      " tchNormalization)                                                                                \n",
      "                                                                                                  \n",
      " activation_34 (Activation)  (None, 64, 64, 64)           0         ['batch_normalization_34[0][0]\n",
      "                                                                    ']                            \n",
      "                                                                                                  \n",
      " conv2d_36 (Conv2D)          (None, 64, 64, 64)           36928     ['activation_34[0][0]']       \n",
      "                                                                                                  \n",
      " batch_normalization_35 (Ba  (None, 64, 64, 64)           256       ['conv2d_36[0][0]']           \n",
      " tchNormalization)                                                                                \n",
      "                                                                                                  \n",
      " activation_35 (Activation)  (None, 64, 64, 64)           0         ['batch_normalization_35[0][0]\n",
      "                                                                    ']                            \n",
      "                                                                                                  \n",
      " conv2d_37 (Conv2D)          (None, 64, 64, 1)            65        ['activation_35[0][0]']       \n",
      "                                                                                                  \n",
      "==================================================================================================\n",
      "Total params: 31054721 (118.46 MB)\n",
      "Trainable params: 31042945 (118.42 MB)\n",
      "Non-trainable params: 11776 (46.00 KB)\n",
      "__________________________________________________________________________________________________\n",
      "None\n"
     ]
    }
   ],
   "source": [
    "print(my_unet.summary())"
   ]
  },
  {
   "attachments": {},
   "cell_type": "markdown",
   "metadata": {},
   "source": [
    "Inicializa o treinamento e salva o resultado "
   ]
  },
  {
   "cell_type": "code",
   "execution_count": 23,
   "metadata": {},
   "outputs": [
    {
     "name": "stdout",
     "output_type": "stream",
     "text": [
      "Epoch 1/15\n",
      "170/170 [==============================] - ETA: 0s - loss: 0.2628 - accuracy: 0.9662\n",
      "Epoch 1: val_loss improved from inf to 0.28241, saving model to /home/emanoelcepr/Imagens/imagens_originais/Sentinel-2/treino_processadas/model70-30.h5\n",
      "170/170 [==============================] - 173s 994ms/step - loss: 0.2628 - accuracy: 0.9662 - val_loss: 0.2824 - val_accuracy: 0.9852\n",
      "Epoch 2/15\n",
      "170/170 [==============================] - ETA: 0s - loss: 0.1215 - accuracy: 0.9961\n",
      "Epoch 2: val_loss improved from 0.28241 to 0.14972, saving model to /home/emanoelcepr/Imagens/imagens_originais/Sentinel-2/treino_processadas/model70-30.h5\n",
      "170/170 [==============================] - 156s 916ms/step - loss: 0.1215 - accuracy: 0.9961 - val_loss: 0.1497 - val_accuracy: 0.9949\n",
      "Epoch 3/15\n",
      "170/170 [==============================] - ETA: 0s - loss: 0.0879 - accuracy: 0.9976\n",
      "Epoch 3: val_loss improved from 0.14972 to 0.08749, saving model to /home/emanoelcepr/Imagens/imagens_originais/Sentinel-2/treino_processadas/model70-30.h5\n",
      "170/170 [==============================] - 156s 919ms/step - loss: 0.0879 - accuracy: 0.9976 - val_loss: 0.0875 - val_accuracy: 0.9986\n",
      "Epoch 4/15\n",
      "170/170 [==============================] - ETA: 0s - loss: 0.0690 - accuracy: 0.9979\n",
      "Epoch 4: val_loss improved from 0.08749 to 0.06435, saving model to /home/emanoelcepr/Imagens/imagens_originais/Sentinel-2/treino_processadas/model70-30.h5\n",
      "170/170 [==============================] - 155s 915ms/step - loss: 0.0690 - accuracy: 0.9979 - val_loss: 0.0643 - val_accuracy: 0.9983\n",
      "Epoch 5/15\n",
      "170/170 [==============================] - ETA: 0s - loss: 0.0544 - accuracy: 0.9980\n",
      "Epoch 5: val_loss improved from 0.06435 to 0.05719, saving model to /home/emanoelcepr/Imagens/imagens_originais/Sentinel-2/treino_processadas/model70-30.h5\n",
      "170/170 [==============================] - 161s 949ms/step - loss: 0.0544 - accuracy: 0.9980 - val_loss: 0.0572 - val_accuracy: 0.9991\n",
      "Epoch 6/15\n",
      "170/170 [==============================] - ETA: 0s - loss: 0.0439 - accuracy: 0.9984\n",
      "Epoch 6: val_loss improved from 0.05719 to 0.03927, saving model to /home/emanoelcepr/Imagens/imagens_originais/Sentinel-2/treino_processadas/model70-30.h5\n",
      "170/170 [==============================] - 160s 944ms/step - loss: 0.0439 - accuracy: 0.9984 - val_loss: 0.0393 - val_accuracy: 0.9987\n",
      "Epoch 7/15\n",
      "170/170 [==============================] - ETA: 0s - loss: 0.0366 - accuracy: 0.9987\n",
      "Epoch 7: val_loss improved from 0.03927 to 0.03298, saving model to /home/emanoelcepr/Imagens/imagens_originais/Sentinel-2/treino_processadas/model70-30.h5\n",
      "170/170 [==============================] - 161s 949ms/step - loss: 0.0366 - accuracy: 0.9987 - val_loss: 0.0330 - val_accuracy: 0.9990\n",
      "Epoch 8/15\n",
      "170/170 [==============================] - ETA: 0s - loss: 0.0309 - accuracy: 0.9988\n",
      "Epoch 8: val_loss improved from 0.03298 to 0.02800, saving model to /home/emanoelcepr/Imagens/imagens_originais/Sentinel-2/treino_processadas/model70-30.h5\n",
      "170/170 [==============================] - 159s 938ms/step - loss: 0.0309 - accuracy: 0.9988 - val_loss: 0.0280 - val_accuracy: 0.9994\n",
      "Epoch 9/15\n",
      "170/170 [==============================] - ETA: 0s - loss: 0.0259 - accuracy: 0.9990\n",
      "Epoch 9: val_loss improved from 0.02800 to 0.02310, saving model to /home/emanoelcepr/Imagens/imagens_originais/Sentinel-2/treino_processadas/model70-30.h5\n",
      "170/170 [==============================] - 162s 951ms/step - loss: 0.0259 - accuracy: 0.9990 - val_loss: 0.0231 - val_accuracy: 0.9994\n",
      "Epoch 10/15\n",
      "170/170 [==============================] - ETA: 0s - loss: 0.0230 - accuracy: 0.9988\n",
      "Epoch 10: val_loss improved from 0.02310 to 0.01918, saving model to /home/emanoelcepr/Imagens/imagens_originais/Sentinel-2/treino_processadas/model70-30.h5\n",
      "170/170 [==============================] - 165s 968ms/step - loss: 0.0230 - accuracy: 0.9988 - val_loss: 0.0192 - val_accuracy: 0.9995\n",
      "Epoch 11/15\n",
      "170/170 [==============================] - ETA: 0s - loss: 0.0195 - accuracy: 0.9990\n",
      "Epoch 11: val_loss improved from 0.01918 to 0.01762, saving model to /home/emanoelcepr/Imagens/imagens_originais/Sentinel-2/treino_processadas/model70-30.h5\n",
      "170/170 [==============================] - 172s 1s/step - loss: 0.0195 - accuracy: 0.9990 - val_loss: 0.0176 - val_accuracy: 0.9993\n",
      "Epoch 12/15\n",
      "170/170 [==============================] - ETA: 0s - loss: 0.0169 - accuracy: 0.9991\n",
      "Epoch 12: val_loss improved from 0.01762 to 0.01629, saving model to /home/emanoelcepr/Imagens/imagens_originais/Sentinel-2/treino_processadas/model70-30.h5\n",
      "170/170 [==============================] - 170s 1s/step - loss: 0.0169 - accuracy: 0.9991 - val_loss: 0.0163 - val_accuracy: 0.9994\n",
      "Epoch 13/15\n",
      "170/170 [==============================] - ETA: 0s - loss: 0.0146 - accuracy: 0.9992\n",
      "Epoch 13: val_loss improved from 0.01629 to 0.01293, saving model to /home/emanoelcepr/Imagens/imagens_originais/Sentinel-2/treino_processadas/model70-30.h5\n",
      "170/170 [==============================] - 160s 941ms/step - loss: 0.0146 - accuracy: 0.9992 - val_loss: 0.0129 - val_accuracy: 0.9995\n",
      "Epoch 14/15\n",
      "170/170 [==============================] - ETA: 0s - loss: 0.0138 - accuracy: 0.9989\n",
      "Epoch 14: val_loss improved from 0.01293 to 0.01226, saving model to /home/emanoelcepr/Imagens/imagens_originais/Sentinel-2/treino_processadas/model70-30.h5\n",
      "170/170 [==============================] - 154s 908ms/step - loss: 0.0138 - accuracy: 0.9989 - val_loss: 0.0123 - val_accuracy: 0.9993\n",
      "Epoch 15/15\n",
      "170/170 [==============================] - ETA: 0s - loss: 0.0114 - accuracy: 0.9993\n",
      "Epoch 15: val_loss improved from 0.01226 to 0.01009, saving model to /home/emanoelcepr/Imagens/imagens_originais/Sentinel-2/treino_processadas/model70-30.h5\n",
      "170/170 [==============================] - 155s 912ms/step - loss: 0.0114 - accuracy: 0.9993 - val_loss: 0.0101 - val_accuracy: 0.9996\n"
     ]
    }
   ],
   "source": [
    "filepath = diretorio_imagens + \"model70-30.h5\"\n",
    "earlystopper = EarlyStopping(patience=5, verbose=1)\n",
    "checkpoint = ModelCheckpoint(filepath, monitor='val_loss', verbose=1, save_best_only=True, mode='min')\n",
    "callbacks_list = [earlystopper, checkpoint]\n",
    "history = my_unet.fit(X_train, Y_train, validation_split=0.2, batch_size=batch_size, epochs=epochs, callbacks=callbacks_list)"
   ]
  },
  {
   "attachments": {},
   "cell_type": "markdown",
   "metadata": {},
   "source": [
    "Salva as métricas da rede já treinada"
   ]
  },
  {
   "cell_type": "code",
   "execution_count": 24,
   "metadata": {},
   "outputs": [],
   "source": [
    "# Salvar o objeto 'history' \n",
    "history_file = diretorio_imagens + \"history.pkl\"\n",
    "with open(history_file, 'wb') as file:\n",
    "    pickle.dump(history.history, file)\n"
   ]
  },
  {
   "cell_type": "code",
   "execution_count": 25,
   "metadata": {},
   "outputs": [
    {
     "name": "stdout",
     "output_type": "stream",
     "text": [
      "dict_keys(['loss', 'accuracy', 'val_loss', 'val_accuracy'])\n"
     ]
    }
   ],
   "source": [
    "print(history.history.keys())"
   ]
  },
  {
   "attachments": {},
   "cell_type": "markdown",
   "metadata": {},
   "source": [
    "Visualização dos Gráficos de Precisão e Perda"
   ]
  },
  {
   "cell_type": "code",
   "execution_count": 26,
   "metadata": {},
   "outputs": [
    {
     "data": {
      "image/png": "[encoded data removed]",
      "text/plain": [
       "<Figure size 1600x400 with 2 Axes>"
      ]
     },
     "metadata": {},
     "output_type": "display_data"
    }
   ],
   "source": [
    "def mostrar_graficos(history):\n",
    "  fig = plt.gcf()\n",
    "  fig.set_size_inches(16,4)\n",
    "  plt.subplot(1,2,1)\n",
    "  plt.plot(history.history['accuracy'], 'red', label='Accuracy treinamento')\n",
    "  plt.plot(history.history['val_accuracy'], 'blue', label='Accuracy validação')\n",
    "  plt.legend()\n",
    "  plt.title('Accuracy')\n",
    "\n",
    "  plt.subplot(1,2,2)\n",
    "  plt.plot(history.history['loss'], 'red', label='Loss treinamento')\n",
    "  plt.plot(history.history['val_loss'], 'blue', label='Loss validação')\n",
    "  plt.legend()\n",
    "  plt.title('Loss')\n",
    "  \n",
    "  plt.show()\n",
    "\n",
    "mostrar_graficos(history)"
   ]
  }
 ],
 "metadata": {
  "kernelspec": {
   "display_name": "Python 3 (ipykernel)",
   "language": "python",
   "name": "python3"
  },
  "language_info": {
   "codemirror_mode": {
    "name": "ipython",
    "version": 3
   },
   "file_extension": ".py",
   "mimetype": "text/x-python",
   "name": "python",
   "nbconvert_exporter": "python",
   "pygments_lexer": "ipython3",
   "version": "3.10.6"
  }
 },
 "nbformat": 4,
 "nbformat_minor": 2
}
