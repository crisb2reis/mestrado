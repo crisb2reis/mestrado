{
 "cells": [
  {
   "attachments": {},
   "cell_type": "markdown",
   "metadata": {},
   "source": [
    "Importação das Bibliotecas"
   ]
  },
  {
   "cell_type": "code",
   "execution_count": 6,
   "metadata": {},
   "outputs": [],
   "source": [
    "import os\n",
    "import zipfile\n",
    "import shutil\n",
    "import cv2\n",
    "import numpy as np\n",
    "import pandas as pd\n",
    "from PIL import Image\n",
    "import concurrent.futures\n",
    "import matplotlib.pyplot as plt\n",
    "\n",
    "import rasterio as rs\n",
    "from skimage.transform import resize"
   ]
  },
  {
   "cell_type": "markdown",
   "metadata": {},
   "source": [
    "Inicialização das Variáveis que seram utilizadas dirante a execução do código"
   ]
  },
  {
   "cell_type": "code",
   "execution_count": 7,
   "metadata": {},
   "outputs": [],
   "source": [
    "IMG_HEIGHT = 64  # Definir a altura das imagens\n",
    "IMG_WIDTH = 64   # Definir a largura das imagens\n",
    "IMG_MASK_CHANNELS = 1  # Número de canais de imagem mascara\n",
    "IMG_CHANNELS = 2  # Número de canais de imagem (bandas 11 e 12)\n",
    "IMG_COLOR_CHANNELS = 3  # Número de canais de imagem coloridas\n",
    "TAMANHO_RECORTE = IMG_HEIGHT\n",
    "NUMERO_IMAGEN = 1"
   ]
  },
  {
   "attachments": {},
   "cell_type": "markdown",
   "metadata": {},
   "source": [
    "Diretório das Imagens e Saídas de .CSV e DataFrame"
   ]
  },
  {
   "cell_type": "code",
   "execution_count": 8,
   "metadata": {},
   "outputs": [],
   "source": [
    "# Local onde as imagens seram salvas em seu computador\n",
    "path = \"/home/cristiano/Imagens/\"\n",
    "\n",
    "# Treino Sentinel-2\n",
    "# origem =  path + \"imagens_originais/Sentinel-2/treino/\"\n",
    "# diretorio_imagens =  path + \"imagens_originais/Sentinel-2/treino_processadas/\"\n",
    "\n",
    "# # Teste Sentinel-2\n",
    "# origem = path + \"imagens_originais/Sentinel-2/teste/\"\n",
    "# diretorio_imagens =  path + \"imagens_originais/Sentinel-2/teste_processadas/\"\n",
    "\n",
    "# Teste Landsat-8\n",
    "origem =  path + \"imagens_originais/Landsat-8/teste/\"\n",
    "diretorio_imagens =  path + \"/imagens_originais/Landsat-8/teste_processadas/\""
   ]
  },
  {
   "attachments": {},
   "cell_type": "markdown",
   "metadata": {},
   "source": [
    "Extrair as imagens para o diretório onde seram processadas e adicionando um número para diferenciar as imagens de mesmo nome."
   ]
  },
  {
   "cell_type": "code",
   "execution_count": 9,
   "metadata": {},
   "outputs": [
    {
     "name": "stdout",
     "output_type": "stream",
     "text": [
      "Descompactação concluída.\n"
     ]
    }
   ],
   "source": [
    "# Verifica se o diretório de destino existe, caso contrário, cria-o\n",
    "if not os.path.exists(diretorio_imagens):\n",
    "    os.makedirs(diretorio_imagens)\n",
    "\n",
    "# Percorre todas as pastas compactadas no diretório de origem\n",
    "for pasta_compactada in os.listdir(origem):\n",
    "    caminho_pasta_compactada = os.path.join(origem, pasta_compactada)\n",
    "\n",
    "    # Verifica se o item é uma pasta compactada\n",
    "    if zipfile.is_zipfile(caminho_pasta_compactada):\n",
    "        # Extrai o conteúdo do arquivo compactado para uma pasta temporária\n",
    "        pasta_temporaria = os.path.join(diretorio_imagens, \"temp\")\n",
    "        with zipfile.ZipFile(caminho_pasta_compactada, 'r') as zip_ref:\n",
    "            zip_ref.extractall(pasta_temporaria)\n",
    "\n",
    "        # Percorre todas as imagens na pasta temporária\n",
    "        for nome_imagem in os.listdir(pasta_temporaria):\n",
    "            caminho_imagem = os.path.join(pasta_temporaria, nome_imagem)\n",
    "\n",
    "            # Verifica se o item é um arquivo de imagem\n",
    "            if os.path.isfile(caminho_imagem):\n",
    "                # Define o novo nome da imagem com o número no início\n",
    "                novo_nome_imagem = f\"{NUMERO_IMAGEN}_{nome_imagem}\"\n",
    "\n",
    "                # Move a imagem para o diretório de destino com o novo nome\n",
    "                caminho_destino_imagem = os.path.join(diretorio_imagens, novo_nome_imagem)\n",
    "                shutil.move(caminho_imagem, caminho_destino_imagem)\n",
    "\n",
    "                # Incrementa o número para a próxima imagem\n",
    "                NUMERO_IMAGEN += 1\n",
    "\n",
    "        # Remove a pasta temporária após processar todas as imagens\n",
    "        shutil.rmtree(pasta_temporaria)\n",
    "\n",
    "print(\"Descompactação concluída.\")"
   ]
  },
  {
   "attachments": {},
   "cell_type": "markdown",
   "metadata": {},
   "source": [
    "Neste ponte é realizado a criação das máscaras, tendo como base a Imagem de Banda12 e como Limiar o valor de 180. As máscaras criadas seram identificadas com o nome Mask e seus pixel seram normalizados para que o o Pixel de fundo tenha o valor 0 e a imagem o valor 1. "
   ]
  },
  {
   "cell_type": "code",
   "execution_count": 10,
   "metadata": {},
   "outputs": [],
   "source": [
    "def modificar_nome_arquivo(nome_arquivo):\n",
    "    # Remover a sequência \"_(Raw)\"\n",
    "    nome_arquivo_modificado = nome_arquivo.replace(\"(Raw)\", \"\")\n",
    "    return nome_arquivo_modificado\n",
    "\n",
    "def aplicar_limiar(imagem, limiar):\n",
    "    # Converte a imagem para escala de cinza\n",
    "    imagem_cinza = imagem.convert('L')\n",
    "\n",
    "    # Converte a imagem em escala de cinza para um array NumPy\n",
    "    imagem_np = np.array(imagem_cinza)\n",
    "\n",
    "    # Binariza a imagem usando o limiar\n",
    "    imagem_binarizada = np.where(imagem_np < limiar, 0, 1)\n",
    "\n",
    "    return imagem_binarizada\n",
    "\n",
    "def normalizar_imagem(imagem):\n",
    "    # Normalizar a imagem para que o valor de 0 seja preto (0) e o valor de 1 seja branco (1)\n",
    "    imagem_normalizada = imagem.astype(np.float32) / 255.0\n",
    "\n",
    "    return imagem_normalizada\n",
    "\n",
    "def limiar_imagens(diretorio, output_dir):\n",
    "    for nome_arquivo in os.listdir(diretorio):\n",
    "        if nome_arquivo.endswith(\"B12_(Raw).tiff\") or nome_arquivo.endswith(\"B07_(Raw).tiff\"):\n",
    "            # Limpar o nome do arquivo\n",
    "            nome_arquivo_limpo = modificar_nome_arquivo(nome_arquivo)\n",
    "\n",
    "            # Carrega a imagem\n",
    "            caminho_arquivo = os.path.join(diretorio, nome_arquivo)\n",
    "            imagem = Image.open(caminho_arquivo)\n",
    "\n",
    "            # Aplicar o limiar de 180\n",
    "            imagem_binarizada = aplicar_limiar(imagem, 180)\n",
    "\n",
    "            # Normalizar a imagem\n",
    "            imagem_normalizada = normalizar_imagem(imagem_binarizada)\n",
    "\n",
    "            # Obter o nome do arquivo sem a extensão\n",
    "            nome_sem_extensao = os.path.splitext(nome_arquivo_limpo)[0]\n",
    "\n",
    "            # Salvar a imagem binarizada com \"_Mask\" antes da extensão no diretório de saída\n",
    "            nome_mask = nome_sem_extensao + \"Mask.tiff\"\n",
    "            caminho_mask = os.path.join(output_dir, nome_mask)\n",
    "            imagem_mask = Image.fromarray((imagem_normalizada * 255).astype(bool))\n",
    "            imagem_mask.save(caminho_mask)\n",
    "\n",
    "# Utiliza processamento paralelo com max threads\n",
    "with concurrent.futures.ThreadPoolExecutor(max_workers=11) as executor:\n",
    "    futures = [executor.submit(limiar_imagens, diretorio_imagens, diretorio_imagens)]\n"
   ]
  },
  {
   "attachments": {},
   "cell_type": "markdown",
   "metadata": {},
   "source": [
    "Recorte das imagens em 64x64 \n",
    "As imagens que possuem coordenadas geográficas precisam ser recortadas de tal forma que não percam esses dados. Já as máscaras não tem essa necessidade, pois não possiem essa caracteristica. "
   ]
  },
  {
   "cell_type": "code",
   "execution_count": 11,
   "metadata": {},
   "outputs": [],
   "source": [
    "import rasterio\n",
    "\n",
    "def recortar_imagens(diretorio, tamanho_recorte):\n",
    "    global numero_imagem\n",
    "    \n",
    "    # Percorre todas as imagens no diretório\n",
    "    for nome_arquivo in os.listdir(diretorio):\n",
    "        caminho_arquivo = os.path.join(diretorio, nome_arquivo)\n",
    "        \n",
    "        # Verifica se a imagem contém \"B12_(Raw)\", \"B11_(Raw)\" ou \"Wildfires\" no nome\n",
    "        if \"B12_(Raw)\" in nome_arquivo or \"B11_(Raw)\" in nome_arquivo or \"Wildfires\" in nome_arquivo:\n",
    "            # Carrega a imagem usando o rasterio para obter os metadados\n",
    "            with rasterio.open(caminho_arquivo) as img:\n",
    "                # Obtém as dimensões da imagem\n",
    "                altura, largura = img.height, img.width\n",
    "                \n",
    "                # Obtém os metadados da imagem\n",
    "                metadados = img.meta\n",
    "            \n",
    "            # Calcula o número de recortes horizontais e verticais\n",
    "            num_recortes_horizontais = largura // tamanho_recorte\n",
    "            num_recortes_verticais = altura // tamanho_recorte\n",
    "            \n",
    "            # Realiza o recorte e salva as imagens resultantes\n",
    "            for i in range(num_recortes_horizontais):\n",
    "                for j in range(num_recortes_verticais):\n",
    "                    # Define as coordenadas do retângulo de recorte\n",
    "                    esquerda = i * tamanho_recorte\n",
    "                    superior = j * tamanho_recorte\n",
    "                    direita = (i + 1) * tamanho_recorte\n",
    "                    inferior = (j + 1) * tamanho_recorte\n",
    "                    \n",
    "                    # Carrega a imagem novamente para o recorte\n",
    "                    with rasterio.open(caminho_arquivo) as img:\n",
    "                        # Realiza o recorte usando a função read\n",
    "                        recorte = img.read(window=((superior, inferior), (esquerda, direita)))\n",
    "                        transform = rasterio.windows.transform(window=((superior, inferior), (esquerda, direita)), transform=img.transform)\n",
    "                    \n",
    "                    # Separa o nome do arquivo e a extensão\n",
    "                    nome, extensao = os.path.splitext(nome_arquivo)\n",
    "                    numero = nome_arquivo.split(\"_\")[0]\n",
    "                    nome = nome[nome.index('_'):]\n",
    "                    \n",
    "                    # Constrói o novo nome de arquivo com o prefixo desejado\n",
    "                    novo_nome_arquivo = f\"{str(numero).zfill(6)}{nome}_recorte_{i}_{j}{extensao}\"\n",
    "                    \n",
    "                    # Salva o recorte em um novo arquivo com os mesmos metadados da imagem original\n",
    "                    caminho_recorte = os.path.join(diretorio, novo_nome_arquivo)\n",
    "                    with rasterio.open(caminho_recorte, 'w', **metadados) as dest:\n",
    "                        dest.write(recorte)\n",
    "                    \n",
    "                    # Incrementa o número para a próxima imagem\n",
    "                    numero_imagem += 1\n",
    "                    \n",
    "            # Remove a imagem original\n",
    "            os.remove(caminho_arquivo)\n",
    "        \n",
    "        # Verifica se a imagem contém \"Mask\" no nome\n",
    "        elif \"Mask\" in nome_arquivo:\n",
    "            # Carrega a imagem\n",
    "            imagem = cv2.imread(caminho_arquivo)\n",
    "            \n",
    "            # Obtém as dimensões da imagem\n",
    "            altura, largura, _ = imagem.shape\n",
    "            \n",
    "            # Calcula o número de recortes horizontais e verticais\n",
    "            num_recortes_horizontais = largura // tamanho_recorte\n",
    "            num_recortes_verticais = altura // tamanho_recorte\n",
    "            \n",
    "            # Realiza o recorte e salva as imagens resultantes\n",
    "            for i in range(num_recortes_horizontais):\n",
    "                for j in range(num_recortes_verticais):\n",
    "                    # Define as coordenadas do retângulo de recorte\n",
    "                    esquerda = i * tamanho_recorte\n",
    "                    superior = j * tamanho_recorte\n",
    "                    direita = (i + 1) * tamanho_recorte\n",
    "                    inferior = (j + 1) * tamanho_recorte\n",
    "                    \n",
    "                    # Realiza o recorte\n",
    "                    recorte = imagem[superior:inferior, esquerda:direita]\n",
    "                    \n",
    "                    # Separa o nome do arquivo e a extensão\n",
    "                    nome, extensao = os.path.splitext(nome_arquivo)\n",
    "                    numero = nome_arquivo.split(\"_\")[0]\n",
    "                    nome = nome[nome.index('_'):]\n",
    "                    \n",
    "                    # Constrói o novo nome de arquivo com o prefixo desejado\n",
    "                    novo_nome_arquivo = f\"{str(numero).zfill(6)}{nome}_recorte_{i}_{j}{extensao}\"\n",
    "                    \n",
    "                    # Salva o recorte em um novo arquivo\n",
    "                    caminho_recorte = os.path.join(diretorio, novo_nome_arquivo)\n",
    "                    cv2.imwrite(caminho_recorte, recorte)\n",
    "                    \n",
    "                    # Incrementa o número para a próxima imagem\n",
    "                    numero_imagem += 1\n",
    "                    \n",
    "            # Remove a imagem original\n",
    "            os.remove(caminho_arquivo)\n",
    "            \n",
    "    # Libera a memória das imagens\n",
    "    cv2.destroyAllWindows()\n",
    "\n",
    "numero_imagem = 0\n",
    "recortar_imagens(diretorio_imagens, TAMANHO_RECORTE)\n"
   ]
  },
  {
   "cell_type": "markdown",
   "metadata": {},
   "source": [
    "É criado um dataframe para salvar ID_Imagem, Banda12, Linha, Coluna, Latitude e Longitude de cada imagem com o limiar maior ou igual a 180. Isso é feito para que seja possivel obter as coordenadas geográficas durante a visualização das imagens. "
   ]
  },
  {
   "cell_type": "code",
   "execution_count": 12,
   "metadata": {},
   "outputs": [],
   "source": [
    "def encontrar_coordenadas_todos_pixels_true(diretorio_imagens, limite_valor_pixel):\n",
    "    # Lista para armazenar as informações de ID da imagem, nome do arquivo, linha, coluna, latitude e longitude de cada pixel true\n",
    "    informacoes_pixels_true = []\n",
    "\n",
    "    # Iterar sobre os arquivos no diretório\n",
    "    for arquivo in os.listdir(diretorio_imagens):\n",
    "        if \"B12_(Raw)\" in arquivo and arquivo.endswith(\".tiff\"):\n",
    "            caminho_arquivo = os.path.join(diretorio_imagens, arquivo)\n",
    "\n",
    "            # Extrair o nome do arquivo e sua extensão usando os.path.basename\n",
    "            nome_arquivo = os.path.basename(caminho_arquivo)\n",
    "\n",
    "            # Extrair o ID da imagem do nome do arquivo (assumindo que o ID está antes do primeiro \"_\")\n",
    "            id_imagem = nome_arquivo.split(\"_\")[0]\n",
    "\n",
    "            # Abrir a imagem usando o rasterio\n",
    "            with rs.open(caminho_arquivo) as img:\n",
    "                # Ler a matriz de pixels da imagem\n",
    "                matriz_pixels = img.read(1)\n",
    "\n",
    "                # Encontrar as posições de todos os pixels true\n",
    "                indices_pixels_true = np.where(matriz_pixels >= limite_valor_pixel)\n",
    "                if len(indices_pixels_true[0]) > 0:\n",
    "                    linhas, colunas = indices_pixels_true\n",
    "\n",
    "                    # Obter as coordenadas de todos os pixels usando o transformador da imagem\n",
    "                    transformador = img.transform\n",
    "                    latitudes, longitudes = rs.transform.xy(transformador, linhas, colunas)\n",
    "\n",
    "                    # Adicionar as informações de cada pixel true à lista\n",
    "                    for linha, coluna, latitude, longitude in zip(linhas, colunas, latitudes, longitudes):\n",
    "                        informacoes_pixels_true.append((id_imagem, nome_arquivo, linha, coluna, latitude, longitude))\n",
    "\n",
    "    return informacoes_pixels_true\n",
    "\n",
    "# Valor limite do pixel para considerá-lo como \"true\"\n",
    "limite_valor_pixel = 180\n",
    "\n",
    "# Encontrar as coordenadas de todos os pixels true nas imagens do diretório\n",
    "lista_informacoes = encontrar_coordenadas_todos_pixels_true(diretorio_imagens, limite_valor_pixel)\n",
    "\n",
    "# Criar um DataFrame a partir da lista de informações\n",
    "df_metadados = pd.DataFrame(lista_informacoes, columns=[\"ID_Imagem\", \"Banda12\", \"Linha\", \"Coluna\", \"Latitude\", \"Longitude\"])\n",
    "\n",
    "# Ordenar o DataFrame pela coluna \"ID_Imagem\"\n",
    "df_metadados.sort_values(by=\"ID_Imagem\", inplace=True)\n",
    "\n",
    "# Salvar o DataFrame em um arquivo CSV (ou outro formato de sua escolha)\n",
    "destino_csv = os.path.join(diretorio_imagens, \"metadados.csv\")\n",
    "df_metadados.to_csv(destino_csv, index= False )\n"
   ]
  },
  {
   "cell_type": "markdown",
   "metadata": {},
   "source": [
    "Neste ponto é criado a estrutura que será a entrada para o treinamento da Rede Neural Convolucional. "
   ]
  },
  {
   "cell_type": "code",
   "execution_count": 8,
   "metadata": {},
   "outputs": [
    {
     "name": "stderr",
     "output_type": "stream",
     "text": [
      "/home/cristiano/.local/lib/python3.10/site-packages/rasterio/__init__.py:304: NotGeoreferencedWarning: Dataset has no geotransform, gcps, or rpcs. The identity matrix will be returned.\n",
      "  dataset = DatasetReader(path, driver=driver, sharing=sharing, **kwargs)\n"
     ]
    },
    {
     "name": "stdout",
     "output_type": "stream",
     "text": [
      "Shape do X_test: (1341, 64, 64, 2)\n",
      "Shape do Y_test: (1341, 64, 64, 1)\n",
      "Shape do Z_test: (1341, 64, 64, 3)\n"
     ]
    }
   ],
   "source": [
    "# Função para redimensionar as imagens de entrada para o tamanho desejado\n",
    "def redimensionar_imagem(imagem, altura_desejada, largura_desejada):\n",
    "    return resize(imagem, (altura_desejada, largura_desejada), mode='constant', preserve_range=True)\n",
    "\n",
    "# Obter número de imagens de treino\n",
    "NUM_TRAIN_IMAGES = len([f for f in os.listdir(diretorio_imagens) if \"Mask\" in f])\n",
    "\n",
    "# Obter listas de nomes de arquivo\n",
    "banda11_list = sorted([f for f in os.listdir(diretorio_imagens) if \"B11_(Raw)\" in f])\n",
    "banda12_list = sorted([f for f in os.listdir(diretorio_imagens) if \"B12_(Raw)\" in f])\n",
    "seg_list = sorted([f for f in os.listdir(diretorio_imagens) if \"Mask\" in f])\n",
    "color_list = sorted([f for f in os.listdir(diretorio_imagens) if \"Wildfires\" in f])\n",
    "\n",
    "with pd.option_context(\"display.max_columns\", None):\n",
    "    df = pd.DataFrame({'banda11': banda11_list, 'banda12': banda12_list, 'seg': seg_list, 'color': color_list})\n",
    "\n",
    "# Obter listas de IDs\n",
    "train_banda11_id_list = df['banda11'].tolist()\n",
    "train_banda12_id_list = df['banda12'].tolist()\n",
    "train_mask_id_list = df['seg'].tolist()\n",
    "train_color_id_list = df['color'].tolist()\n",
    "\n",
    "#criando as matrizes para armazenar as imagens \n",
    "# X_train = np.zeros((NUM_TRAIN_IMAGES, IMG_HEIGHT, IMG_WIDTH, IMG_CHANNELS), dtype=np.float32)\n",
    "# Y_train = np.zeros((NUM_TRAIN_IMAGES, IMG_HEIGHT, IMG_WIDTH, IMG_MASK_CHANNELS), dtype=bool)\n",
    "# Z_train = np.zeros((NUM_TRAIN_IMAGES, IMG_HEIGHT, IMG_WIDTH, IMG_COLOR_CHANNELS), dtype=np.float32)\n",
    "\n",
    "X_test = np.zeros((NUM_TRAIN_IMAGES, IMG_HEIGHT, IMG_WIDTH, IMG_CHANNELS), dtype=np.float32)\n",
    "Y_test = np.zeros((NUM_TRAIN_IMAGES, IMG_HEIGHT, IMG_WIDTH, IMG_MASK_CHANNELS), dtype=bool)\n",
    "Z_test = np.zeros((NUM_TRAIN_IMAGES, IMG_HEIGHT, IMG_WIDTH, IMG_COLOR_CHANNELS), dtype=np.float32)\n",
    "\n",
    "# Iterar sobre as listas usando enumerate\n",
    "for i, (banda11_id, banda12_id, mask_id, color_id) in enumerate(zip(train_banda11_id_list, train_banda12_id_list, train_mask_id_list, train_color_id_list)):\n",
    "    # Construir caminhos completos\n",
    "    path_banda11 = os.path.join(diretorio_imagens, banda11_id)\n",
    "    path_banda12 = os.path.join(diretorio_imagens, banda12_id)\n",
    "    path_seg = os.path.join(diretorio_imagens, mask_id)\n",
    "    path_color = os.path.join(diretorio_imagens, color_id)\n",
    "\n",
    "    try:\n",
    "        # Ler as imagens\n",
    "        with rs.open(path_banda11) as img11, rs.open(path_banda12) as img12, rs.open(path_seg) as img_seg, rs.open(path_color) as img_color:\n",
    "            banda11 = img11.read(1)\n",
    "            banda12 = img12.read(1)\n",
    "            seg = img_seg.read(1)\n",
    "            color = img_color.read(1)\n",
    "\n",
    "        # Juntar as bandas\n",
    "        bandas = np.dstack((banda11, banda12))\n",
    "\n",
    "        # Redimensionar as bandas para o tamanho desejado\n",
    "        bandas_redimensionadas = redimensionar_imagem(bandas, IMG_HEIGHT, IMG_WIDTH)\n",
    "\n",
    "        # Transformar bandas em valores entre 0 e 255\n",
    "        bandas_redimensionadas = (bandas_redimensionadas / np.max(bandas_redimensionadas)) * 255\n",
    "\n",
    "        # Inserir a imagem em X_train/X_test\n",
    "        # X_train[i] = bandas_redimensionadas\n",
    "        X_test[i] = bandas_redimensionadas\n",
    "\n",
    "        # Redimensionar a máscara para a forma (IMG_HEIGHT, IMG_WIDTH, 1)\n",
    "        mask = resize(seg, (IMG_HEIGHT, IMG_WIDTH, 1), mode='constant', preserve_range=True)\n",
    "\n",
    "        # Normalizar valores da máscara para True/False (ou 0/1)\n",
    "        mask = mask.astype(bool)\n",
    "\n",
    "        # Inserir a máscara em X_train/Y_test\n",
    "        # X_train[i] = mask\n",
    "        Y_test[i] = mask\n",
    "\n",
    "        # Inserir a imagem em Z_train/Z_test\n",
    "        # Z_train[i] = resize(color, (IMG_HEIGHT, IMG_WIDTH, IMG_COLOR_CHANNELS), mode='constant', preserve_range=True)\n",
    "        Z_test[i] = resize(color, (IMG_HEIGHT, IMG_WIDTH, IMG_COLOR_CHANNELS), mode='constant', preserve_range=True)\n",
    "\n",
    "    except (rs.errors.RasterioIOError, FileNotFoundError) as e:\n",
    "        print(f\"Erro ao abrir a imagem {banda11_id}: {e}\")\n",
    "\n",
    "# print('Shape do X_train:', X_train.shape)\n",
    "# print('Shape do Y_train:', Y_train.shape)\n",
    "# print('Shape do Z_train:', Z_train.shape)\n",
    "\n",
    "print('Shape do X_test:', X_test.shape)\n",
    "print('Shape do Y_test:', Y_test.shape)\n",
    "print('Shape do Z_test:', Z_test.shape)\n"
   ]
  },
  {
   "cell_type": "markdown",
   "metadata": {},
   "source": [
    "Salva as entradas da Rede"
   ]
  },
  {
   "cell_type": "code",
   "execution_count": 9,
   "metadata": {},
   "outputs": [],
   "source": [
    "# Salvar X_train\n",
    "# X_train_file = os.path.join(diretorio_imagens, 'X_train.npy')\n",
    "# np.save(X_train_file, X_train)\n",
    "\n",
    "# # Salvar Y_train\n",
    "# Y_train_file = os.path.join(diretorio_imagens, 'Y_train.npy')\n",
    "# np.save(Y_train_file, Y_train)\n",
    "\n",
    "# # Salvar Y_train\n",
    "# Z_train_file = os.path.join(diretorio_imagens, 'Z_train.npy')\n",
    "# np.save(Z_train_file, Z_train)"
   ]
  },
  {
   "cell_type": "markdown",
   "metadata": {},
   "source": [
    "Visualização de uma imagem a partir dos arquivos salvos."
   ]
  },
  {
   "cell_type": "code",
   "execution_count": 10,
   "metadata": {},
   "outputs": [],
   "source": [
    "\n",
    "# Selecionar a primeira amostra da array X_test, que contém a imagem composta pelas duas bandas\n",
    "# bandas = X_train[6]\n",
    "# color = Z_train[6]\n",
    "\n",
    "# # Separar as bandas individuais (assumindo que as bandas estão na última dimensão)\n",
    "# banda11 = bandas[:, :, 0]\n",
    "# banda12 = bandas[:, :, 1]\n",
    "# rgb = color[:, :, 2]\n",
    "\n",
    "# # Plotar as bandas individualmente\n",
    "# plt.subplot(1, 3, 1)\n",
    "# plt.imshow(banda11, cmap='gray')\n",
    "# plt.title('Banda 11')\n",
    "\n",
    "# plt.subplot(1, 3, 2)\n",
    "# plt.imshow(banda12, cmap='gray')\n",
    "# plt.title('Banda 12')\n",
    "\n",
    "# plt.subplot(1, 3, 3)\n",
    "# plt.imshow(rgb)\n",
    "# plt.title('Color')\n",
    "\n",
    "# plt.show()"
   ]
  },
  {
   "cell_type": "markdown",
   "metadata": {},
   "source": [
    "Salva as entradas da Rede"
   ]
  },
  {
   "cell_type": "code",
   "execution_count": 11,
   "metadata": {},
   "outputs": [],
   "source": [
    "# Salvar X_test\n",
    "X_test_file = os.path.join(diretorio_imagens, 'X_test.npy')\n",
    "np.save(X_test_file, X_test)\n",
    "\n",
    "# Salvar Y_train\n",
    "Y_test_file = os.path.join(diretorio_imagens, 'Y_test.npy')\n",
    "np.save(Y_test_file, Y_test)\n",
    "\n",
    "\n",
    "# Salvar Z_train\n",
    "Z_test_file = os.path.join(diretorio_imagens, 'Z_test.npy')\n",
    "np.save(Z_test_file, Z_test)"
   ]
  },
  {
   "cell_type": "markdown",
   "metadata": {},
   "source": [
    "Visualização de uma imagem a partir dos arquivos salvos."
   ]
  },
  {
   "cell_type": "code",
   "execution_count": 12,
   "metadata": {},
   "outputs": [
    {
     "data": {
      "image/png": "[encoded data removed]",
      "text/plain": [
       "<Figure size 640x480 with 3 Axes>"
      ]
     },
     "metadata": {},
     "output_type": "display_data"
    }
   ],
   "source": [
    "\n",
    "# Selecionar a primeira amostra da array X_test, que contém a imagem composta pelas duas bandas\n",
    "bandas = X_test[2]\n",
    "color = Z_test[2]\n",
    "\n",
    "# Separar as bandas individuais (assumindo que as bandas estão na última dimensão)\n",
    "banda11 = bandas[:, :, 0]\n",
    "banda12 = bandas[:, :, 1]\n",
    "rgb = color[:, :, 0]\n",
    "\n",
    "# Plotar as bandas individualmente\n",
    "plt.subplot(1, 3, 1)\n",
    "plt.imshow(banda11, cmap='gray')\n",
    "plt.title('Banda 11')\n",
    "\n",
    "plt.subplot(1, 3, 2)\n",
    "plt.imshow(banda12, cmap='gray')\n",
    "plt.title('Banda 12')\n",
    "\n",
    "plt.subplot(1, 3, 3)\n",
    "plt.imshow(rgb)\n",
    "plt.title('Color')\n",
    "\n",
    "plt.show()"
   ]
  },
  {
   "cell_type": "markdown",
   "metadata": {},
   "source": [
    "vou passar o indice e a posição do pixel e a função vai no diretório onde esta salvo as imagem e vai procurar no meta dados a longitute e a latitude da imagem."
   ]
  }
 ],
 "metadata": {
  "kernelspec": {
   "display_name": "Python 3 (ipykernel)",
   "language": "python",
   "name": "python3"
  },
  "language_info": {
   "codemirror_mode": {
    "name": "ipython",
    "version": 3
   },
   "file_extension": ".py",
   "mimetype": "text/x-python",
   "name": "python",
   "nbconvert_exporter": "python",
   "pygments_lexer": "ipython3",
   "version": "3.10.6"
  }
 },
 "nbformat": 4,
 "nbformat_minor": 2
}
